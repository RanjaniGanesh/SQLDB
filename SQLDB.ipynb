{
  "nbformat": 4,
  "nbformat_minor": 0,
  "metadata": {
    "colab": {
      "name": "SQLDB.ipynb",
      "provenance": [],
      "collapsed_sections": [],
      "authorship_tag": "ABX9TyNDPJmIrsuJA30FMfGNZl09",
      "include_colab_link": true
    },
    "kernelspec": {
      "name": "python3",
      "display_name": "Python 3"
    },
    "language_info": {
      "name": "python"
    }
  },
  "cells": [
    {
      "cell_type": "markdown",
      "metadata": {
        "id": "view-in-github",
        "colab_type": "text"
      },
      "source": [
        "<a href=\"https://colab.research.google.com/github/RanjaniGanesh/SQLDB/blob/main/SQLDB.ipynb\" target=\"_parent\"><img src=\"https://colab.research.google.com/assets/colab-badge.svg\" alt=\"Open In Colab\"/></a>"
      ]
    },
    {
      "cell_type": "code",
      "execution_count": 1,
      "metadata": {
        "colab": {
          "base_uri": "https://localhost:8080/"
        },
        "id": "a2iZq5Z2JwYi",
        "outputId": "d1d68b58-5b3b-45ee-813a-553956bc985f"
      },
      "outputs": [
        {
          "output_type": "stream",
          "name": "stdout",
          "text": [
            "Looking in indexes: https://pypi.org/simple, https://us-python.pkg.dev/colab-wheels/public/simple/\n",
            "Requirement already satisfied: db-sqlite3 in /usr/local/lib/python3.7/dist-packages (0.0.1)\n",
            "Requirement already satisfied: db in /usr/local/lib/python3.7/dist-packages (from db-sqlite3) (0.1.1)\n",
            "Requirement already satisfied: antiorm in /usr/local/lib/python3.7/dist-packages (from db->db-sqlite3) (1.2.1)\n"
          ]
        }
      ],
      "source": [
        "!pip install db-sqlite3"
      ]
    },
    {
      "cell_type": "code",
      "source": [
        "import sqlite3"
      ],
      "metadata": {
        "id": "DjIh8qmgJ3Nr"
      },
      "execution_count": 2,
      "outputs": []
    },
    {
      "cell_type": "code",
      "source": [
        "conn =sqlite3.connect(\"SQL.db\")\n",
        "#cursor =connection.cursor()\n",
        "#print(cursor)"
      ],
      "metadata": {
        "id": "pX22-q17J4yK"
      },
      "execution_count": 3,
      "outputs": []
    },
    {
      "cell_type": "code",
      "source": [
        "conn.execute('''create table Employee(S_No INTEGER PRIMARY KEY ,First_Name text not null, Last_Name text not null, Email_id text not null,\n",
        "                  Department text not null, Salary int not null, Join_Date  date ); ''')"
      ],
      "metadata": {
        "colab": {
          "base_uri": "https://localhost:8080/",
          "height": 253
        },
        "id": "4yJvZS8MJ90G",
        "outputId": "14eb7f00-baf9-4f37-8219-6a7a47ee4166"
      },
      "execution_count": 4,
      "outputs": [
        {
          "output_type": "stream",
          "name": "stderr",
          "text": [
            "ERROR:root:An unexpected error occurred while tokenizing input\n",
            "The following traceback may be corrupted or invalid\n",
            "The error message is: ('EOF in multi-line string', (1, 84))\n",
            "\n"
          ]
        },
        {
          "output_type": "error",
          "ename": "OperationalError",
          "evalue": "ignored",
          "traceback": [
            "\u001b[0;31m---------------------------------------------------------------------------\u001b[0m",
            "\u001b[0;31mOperationalError\u001b[0m                          Traceback (most recent call last)",
            "\u001b[0;32m<ipython-input-4-1caa1728e798>\u001b[0m in \u001b[0;36m<module>\u001b[0;34m()\u001b[0m\n\u001b[1;32m      1\u001b[0m conn.execute('''create table Employee(S_No INTEGER PRIMARY KEY ,First_Name text not null, Last_Name text not null, Email_id text not null,\n\u001b[0;32m----> 2\u001b[0;31m                   Department text not null, Salary int not null, Join_Date  date ); ''')\n\u001b[0m",
            "\u001b[0;31mOperationalError\u001b[0m: table Employee already exists"
          ]
        }
      ]
    },
    {
      "cell_type": "code",
      "source": [
        "conn.commit()"
      ],
      "metadata": {
        "id": "PpCiDdqT2QCI"
      },
      "execution_count": 6,
      "outputs": []
    },
    {
      "cell_type": "code",
      "source": [
        "conn.execute(\"INSERT INTO Employee(First_name,Last_name,Email_id,Department,Salary,Join_date) VALUES ('Sidharth', 'Abhimanyu', 'sidharthabhimanyu@guvi.com', 'Web developer', '20000', '05-05-2020');\")"
      ],
      "metadata": {
        "colab": {
          "base_uri": "https://localhost:8080/"
        },
        "id": "FTz-vebypBCy",
        "outputId": "5d76a50c-707a-480d-dbf4-12a8ec738d6a"
      },
      "execution_count": 7,
      "outputs": [
        {
          "output_type": "execute_result",
          "data": {
            "text/plain": [
              "<sqlite3.Cursor at 0x7f0913ed1c70>"
            ]
          },
          "metadata": {},
          "execution_count": 7
        }
      ]
    },
    {
      "cell_type": "code",
      "source": [
        "conn.execute(\"INSERT INTO Employee(First_name,Last_name,Email_id,Department,Salary,Join_date) VALUES ('Aadhitya', 'Varma', 'aadhityavarma@guvi.com', 'Senior Software Engineer', '65000', '12-05-2010');\")"
      ],
      "metadata": {
        "colab": {
          "base_uri": "https://localhost:8080/"
        },
        "id": "BKGi2vT1pXqN",
        "outputId": "7e06ff12-d9f7-4469-cc27-d0c623e2c8a0"
      },
      "execution_count": 8,
      "outputs": [
        {
          "output_type": "execute_result",
          "data": {
            "text/plain": [
              "<sqlite3.Cursor at 0x7f090fe31960>"
            ]
          },
          "metadata": {},
          "execution_count": 8
        }
      ]
    },
    {
      "cell_type": "code",
      "source": [
        "conn.execute(\"INSERT INTO Employee(First_name,Last_name,Email_id,Department,Salary,Join_date) VALUES ('Aadhitya', 'Varma', 'aadhityavarma@guvi.com', 'Senior Software Engineer', '65000', '12-05-2010');\")\n",
        "conn.execute(\"INSERT INTO Employee(First_name,Last_name,Email_id,Department,Salary,Join_date) VALUES ('Mona', 'Varghese', 'monavarghese@guvi.com', 'Senior Software Engineer', '65000', '12-10-2011');\")\n",
        "conn.execute(\"INSERT INTO Employee(First_name,Last_name,Email_id,Department,Salary,Join_date) VALUES ('Anupama', 'Nair', 'anupamanair@guvi.com', 'Software Engineer', '40000', '21-01-2015');\")\n",
        "conn.execute(\"INSERT INTO Employee(First_name,Last_name,Email_id,Department,Salary,Join_date) VALUES ('Sibin', 'Xavier', 'sibinxavier@guvi.com', 'Software Engineer', '45000', '15-10-2013');\")\n",
        "conn.execute(\"INSERT INTO Employee(First_name,Last_name,Email_id,Department,Salary,Join_date) VALUES ('Akshai', 'Kumar', 'akshaikumar@guvi.com', 'System Analyst', '50000', '04-07-2017');\")\n",
        "conn.execute(\"INSERT INTO Employee(First_name,Last_name,Email_id,Department,Salary,Join_date) VALUES ('Krithika', 'Shankari', 'krithikashankari@guvi.com', 'Game Developer', '28000', '23-10-2021');\")\n",
        "conn.execute(\"INSERT INTO Employee(First_name,Last_name,Email_id,Department,Salary,Join_date) VALUES ('Adithi', 'Rao', 'adithirao@guvi.com', 'Hardware Engineer', '20000', '23-05-2020');\")\n",
        "conn.execute(\"INSERT INTO Employee(First_name,Last_name,Email_id,Department,Salary,Join_date) VALUES ('Abhinaya', 'Shree', 'abhinayashree@guvi.com', 'Web Developer', '20000', '12-10-2021');\")"
      ],
      "metadata": {
        "colab": {
          "base_uri": "https://localhost:8080/"
        },
        "id": "33VkSoV5pj1Z",
        "outputId": "93dc9b7c-197d-4452-b017-bbc8c1bcf42d"
      },
      "execution_count": 9,
      "outputs": [
        {
          "output_type": "execute_result",
          "data": {
            "text/plain": [
              "<sqlite3.Cursor at 0x7f090fe31d50>"
            ]
          },
          "metadata": {},
          "execution_count": 9
        }
      ]
    },
    {
      "cell_type": "code",
      "source": [
        "conn.execute(\"INSERT INTO Employee(First_name,Last_name,Email_id,Department,Salary,Join_date) VALUES ('Jismi', 'Mary', 'jismimary@guvi.com', 'Senior Software Engineer', '60000', '12-12-2011');\")\n",
        "conn.execute(\"INSERT INTO Employee(First_name,Last_name,Email_id,Department,Salary,Join_date) VALUES ('Dhivya', 'Bharathi', 'dhivyabharathi@guvi.com', 'Software Engineer', '45000', '05-12-2021');\")\n",
        "conn.execute(\"INSERT INTO Employee(First_name,Last_name,Email_id,Department,Salary,Join_date) VALUES ('Cyril', 'Mol', 'cyrilmol@guvi.com', 'Software Engineer', '45000', '12-05-2022');\")\n",
        "conn.execute(\"INSERT INTO Employee(First_name,Last_name,Email_id,Department,Salary,Join_date) VALUES ('Keerthiga', 'Devi', 'keerthigadevi@guvi.com', 'Software Engineer', '50000', '02-07-2009');\")\n",
        "conn.execute(\"INSERT INTO Employee(First_name,Last_name,Email_id,Department,Salary,Join_date) VALUES ('Laxmi', 'Prabha', 'laxmiprabha@guvi.com', 'Senior Software Engineer', '60000', '25-07-2010');\")\n",
        "conn.execute(\"INSERT INTO Employee(First_name,Last_name,Email_id,Department,Salary,Join_date) VALUES ('Shiva', 'Senthil', 'shivasenthil@guvi.com', 'Senior Software Engineer', '60000', '08-11-2010');\")\n",
        "conn.execute(\"INSERT INTO Employee(First_name,Last_name,Email_id,Department,Salary,Join_date) VALUES ('Padma','Priya','padmapriya@guvi.com','Software Engineer','35000','01-08-2019');\")\n",
        "conn.execute(\"INSERT INTO Employee(First_name,Last_name,Email_id,Department,Salary,Join_date) VALUES ('Kavi','Arasan','kaviarasan@guvi.com','Software Engineer','40000','23-05-2020');\")\n",
        "conn.execute(\"INSERT INTO Employee(First_name,Last_name,Email_id,Department,Salary,Join_date) VALUES ('Raj','Kumar','rajkumar@guvi.com','Software Application Packager','55000','01-06-2019');\")\n",
        "conn.execute(\"INSERT INTO Employee(First_name,Last_name,Email_id,Department,Salary,Join_date) VALUES ('Dhanya','Surabi','dhanyasurabi@guvi.com','Mobile Developer','30000','05-07-2020');\")"
      ],
      "metadata": {
        "colab": {
          "base_uri": "https://localhost:8080/"
        },
        "id": "E32QTJyaqdtw",
        "outputId": "19adeb18-f177-4879-ae6b-fbce4f75e284"
      },
      "execution_count": 10,
      "outputs": [
        {
          "output_type": "execute_result",
          "data": {
            "text/plain": [
              "<sqlite3.Cursor at 0x7f090fe46260>"
            ]
          },
          "metadata": {},
          "execution_count": 10
        }
      ]
    },
    {
      "cell_type": "code",
      "source": [
        "conn.execute('''INSERT INTO Employee (First_name,Last_name,Email_id,Department,Salary,Join_date)\n",
        "VALUES \n",
        "('Raj','Kumar','rajkumar@guvi.com','Software Application Packager','55000','01-06-2019'),\n",
        "('Dhanya','Surabi','dhanyasurabi@guvi.com','Mobile Developer','30000','05-07-2020'),\n",
        "('Bharath','Raj','bharathraj@guvi.com','Software Engineer','40000','28-09-2021'),\n",
        "('Abdhul','Hameed','abdhulhameed@guvi.com','Senior Software Engineer','60000','12-06-2019'),\n",
        "('Abhishek','Sharma','abhisheksharma@guvi.com','System Analyst','50000','22-05-2018'),\n",
        "('Ramesh','Babu','rameshbabu@guvi.com','Senior Software Engineer','60000','17-06-2018'),\n",
        "('Santhosh','Kumar','santhoshkumar@guvi.com','System Analyst','50000','22-06-2020'),\n",
        "('Vignesh','kumar','vigneshkumar@guvi.com','Data Scientist','70000','22-03-2020'),\n",
        "('Hari','Doss','haridoss@guvi.com','Web Developer','20000','16-06-2019'),\n",
        "('Sai','Balaji','saibalaji@guvi.com','Mobile Developer','25000','12-09-2019'),\n",
        "('Tamil','Arasu','tamilarasu@guvi.com','Web Developer','20000','28-09-2021'),\n",
        "('Senthamizh','Selvan','senthamizhselvan@guvi.com','Network Administrator','40000','16-11-2021'),\n",
        "('Linga','Mithra','lingamithra@guvi.com','Senior Software Engineer','60000','27-04-2019'),\n",
        "('Raheema','Sulthana','raheemasulthana@guvi.com','Software Engineer','40000','17-09-2020'),\n",
        "('Vasantha','Mohan','vasanthamohan@guvi.com','Senior Software Engineer','60000','11-11-2017'),\n",
        "('Shiva','Raj','shivaraj@guvi.com','Network Administrator','40000','14-08-2017'),\n",
        "('Kamala','Devi','kamaladevi@guvi.com','Mobile Developer','25000','05-07-2020'),\n",
        "('Iniyan','Venkat','iniyanvenkat@guvi.com','Software Developer','30000','20-02-2020'),\n",
        "('Kriba','Karan','kribakaran@guvi.com','Mobile Developer','30000','31-05-2021'),\n",
        "('Sathish','Kumar','sathishkumar@guvi.com','System Analyst','45000','17-09-2019'),\n",
        "('Shiva','Ranjani','shivaranjani@guvi.com','Software Engineer','40000','23-05-2019'),\n",
        "('Sukirtha','Sri','sukirthasri@guvi.com','Web Developer','25000','19-10-2021'),\n",
        "('Mathi','Azhagan','mathiazhagan@guvi.com','Network Administrator','40000','15-06-2017'),\n",
        "('Karthigai','Selvi','karthigaiselvi@guvi.com','Web Developer','25000','13-03-2019'),\n",
        "('Kishore','Kannan','kishorekannan@guvi.com','Network Administrator','40000','11-09-2021'),\n",
        "('Henry','Roshan','henryroshan@guvi.com','Web Developer','20000','10-09-2019'),\n",
        "('Prabhu','Deva','prabhudeva@guvi.com','System Analyst','50000','11-11-2011'),\n",
        "('Kithur','Sumaresh','kithursumaresh@guvi.com','Mobile Developer','25000','17-10-2020'),\n",
        "('Bala','Shankar','balashankar@guvi.com','Software Developer','30000','21-10-2017'),\n",
        "('Sathya','Priya','sathyapriya@guvi.com','Mobile Developer','30000','19-10-2019'),\n",
        "('Shanmuga','Priya','shanmugapriya@guvi.com','Software Engineer','40000','08-06-2020'),\n",
        "('Gowry','Shankar','gowryshankar@guvi.com','Senior Software Engineer','55000','10-08-2017'),\n",
        "('Sibin','Xavier','sibinxavier@guvi.com','Software Engineer','40000','20-02-2015')\n",
        ";''')"
      ],
      "metadata": {
        "id": "YLRDv280Z0yA",
        "colab": {
          "base_uri": "https://localhost:8080/"
        },
        "outputId": "050f599e-27df-47f2-f3b8-fd9c96f8374f"
      },
      "execution_count": 11,
      "outputs": [
        {
          "output_type": "execute_result",
          "data": {
            "text/plain": [
              "<sqlite3.Cursor at 0x7f0913ed1f80>"
            ]
          },
          "metadata": {},
          "execution_count": 11
        }
      ]
    },
    {
      "cell_type": "code",
      "source": [
        "cursor = conn.execute(''' SELECT * from Employee''')\n",
        "for row in cursor:\n",
        "  print(row)"
      ],
      "metadata": {
        "colab": {
          "base_uri": "https://localhost:8080/"
        },
        "id": "9fTioeyJsYtZ",
        "outputId": "74d08d79-c80e-4fd4-f843-ce5cdec04d0e"
      },
      "execution_count": 12,
      "outputs": [
        {
          "output_type": "stream",
          "name": "stdout",
          "text": [
            "(1, 'Sidharth', 'Abhimanyu', 'sidharthabhimanyu@guvi.com', 'Web developer', 20000, '05-05-2020')\n",
            "(2, 'Aadhitya', 'Varma', 'aadhityavarma@guvi.com', 'Senior Software Engineer', 65000, '12-05-2010')\n",
            "(3, 'Aadhitya', 'Varma', 'aadhityavarma@guvi.com', 'Senior Software Engineer', 65000, '12-05-2010')\n",
            "(4, 'Mona', 'Varghese', 'monavarghese@guvi.com', 'Senior Software Engineer', 65000, '12-10-2011')\n",
            "(5, 'Anupama', 'Nair', 'anupamanair@guvi.com', 'Software Engineer', 40000, '21-01-2015')\n",
            "(6, 'Sibin', 'Xavier', 'sibinxavier@guvi.com', 'Software Engineer', 45000, '15-10-2013')\n",
            "(7, 'Akshai', 'Kumar', 'akshaikumar@guvi.com', 'System Analyst', 50000, '04-07-2017')\n",
            "(8, 'Krithika', 'Shankari', 'krithikashankari@guvi.com', 'Game Developer', 28000, '23-10-2021')\n",
            "(9, 'Adithi', 'Rao', 'adithirao@guvi.com', 'Hardware Engineer', 20000, '23-05-2020')\n",
            "(10, 'Abhinaya', 'Shree', 'abhinayashree@guvi.com', 'Web Developer', 20000, '12-10-2021')\n",
            "(11, 'Jismi', 'Mary', 'jismimary@guvi.com', 'Senior Software Engineer', 60000, '12-12-2011')\n",
            "(12, 'Dhivya', 'Bharathi', 'dhivyabharathi@guvi.com', 'Software Engineer', 45000, '05-12-2021')\n",
            "(13, 'Cyril', 'Mol', 'cyrilmol@guvi.com', 'Software Engineer', 45000, '12-05-2022')\n",
            "(14, 'Keerthiga', 'Devi', 'keerthigadevi@guvi.com', 'Software Engineer', 50000, '02-07-2009')\n",
            "(15, 'Laxmi', 'Prabha', 'laxmiprabha@guvi.com', 'Senior Software Engineer', 60000, '25-07-2010')\n",
            "(16, 'Shiva', 'Senthil', 'shivasenthil@guvi.com', 'Senior Software Engineer', 60000, '08-11-2010')\n",
            "(17, 'Padma', 'Priya', 'padmapriya@guvi.com', 'Software Engineer', 35000, '01-08-2019')\n",
            "(18, 'Kavi', 'Arasan', 'kaviarasan@guvi.com', 'Software Engineer', 40000, '23-05-2020')\n",
            "(19, 'Raj', 'Kumar', 'rajkumar@guvi.com', 'Software Application Packager', 55000, '01-06-2019')\n",
            "(20, 'Dhanya', 'Surabi', 'dhanyasurabi@guvi.com', 'Mobile Developer', 30000, '05-07-2020')\n",
            "(21, 'Raj', 'Kumar', 'rajkumar@guvi.com', 'Software Application Packager', 55000, '01-06-2019')\n",
            "(22, 'Dhanya', 'Surabi', 'dhanyasurabi@guvi.com', 'Mobile Developer', 30000, '05-07-2020')\n",
            "(23, 'Bharath', 'Raj', 'bharathraj@guvi.com', 'Software Engineer', 40000, '28-09-2021')\n",
            "(24, 'Abdhul', 'Hameed', 'abdhulhameed@guvi.com', 'Senior Software Engineer', 60000, '12-06-2019')\n",
            "(25, 'Abhishek', 'Sharma', 'abhisheksharma@guvi.com', 'System Analyst', 50000, '22-05-2018')\n",
            "(26, 'Ramesh', 'Babu', 'rameshbabu@guvi.com', 'Senior Software Engineer', 60000, '17-06-2018')\n",
            "(27, 'Santhosh', 'Kumar', 'santhoshkumar@guvi.com', 'System Analyst', 50000, '22-06-2020')\n",
            "(28, 'Vignesh', 'kumar', 'vigneshkumar@guvi.com', 'Data Scientist', 70000, '22-03-2020')\n",
            "(29, 'Hari', 'Doss', 'haridoss@guvi.com', 'Web Developer', 20000, '16-06-2019')\n",
            "(30, 'Sai', 'Balaji', 'saibalaji@guvi.com', 'Mobile Developer', 25000, '12-09-2019')\n",
            "(31, 'Tamil', 'Arasu', 'tamilarasu@guvi.com', 'Web Developer', 20000, '28-09-2021')\n",
            "(32, 'Senthamizh', 'Selvan', 'senthamizhselvan@guvi.com', 'Network Administrator', 40000, '16-11-2021')\n",
            "(33, 'Linga', 'Mithra', 'lingamithra@guvi.com', 'Senior Software Engineer', 60000, '27-04-2019')\n",
            "(34, 'Raheema', 'Sulthana', 'raheemasulthana@guvi.com', 'Software Engineer', 40000, '17-09-2020')\n",
            "(35, 'Vasantha', 'Mohan', 'vasanthamohan@guvi.com', 'Senior Software Engineer', 60000, '11-11-2017')\n",
            "(36, 'Shiva', 'Raj', 'shivaraj@guvi.com', 'Network Administrator', 40000, '14-08-2017')\n",
            "(37, 'Kamala', 'Devi', 'kamaladevi@guvi.com', 'Mobile Developer', 25000, '05-07-2020')\n",
            "(38, 'Iniyan', 'Venkat', 'iniyanvenkat@guvi.com', 'Software Developer', 30000, '20-02-2020')\n",
            "(39, 'Kriba', 'Karan', 'kribakaran@guvi.com', 'Mobile Developer', 30000, '31-05-2021')\n",
            "(40, 'Sathish', 'Kumar', 'sathishkumar@guvi.com', 'System Analyst', 45000, '17-09-2019')\n",
            "(41, 'Shiva', 'Ranjani', 'shivaranjani@guvi.com', 'Software Engineer', 40000, '23-05-2019')\n",
            "(42, 'Sukirtha', 'Sri', 'sukirthasri@guvi.com', 'Web Developer', 25000, '19-10-2021')\n",
            "(43, 'Mathi', 'Azhagan', 'mathiazhagan@guvi.com', 'Network Administrator', 40000, '15-06-2017')\n",
            "(44, 'Karthigai', 'Selvi', 'karthigaiselvi@guvi.com', 'Web Developer', 25000, '13-03-2019')\n",
            "(45, 'Kishore', 'Kannan', 'kishorekannan@guvi.com', 'Network Administrator', 40000, '11-09-2021')\n",
            "(46, 'Henry', 'Roshan', 'henryroshan@guvi.com', 'Web Developer', 20000, '10-09-2019')\n",
            "(47, 'Prabhu', 'Deva', 'prabhudeva@guvi.com', 'System Analyst', 50000, '11-11-2011')\n",
            "(48, 'Kithur', 'Sumaresh', 'kithursumaresh@guvi.com', 'Mobile Developer', 25000, '17-10-2020')\n",
            "(49, 'Bala', 'Shankar', 'balashankar@guvi.com', 'Software Developer', 30000, '21-10-2017')\n",
            "(50, 'Sathya', 'Priya', 'sathyapriya@guvi.com', 'Mobile Developer', 30000, '19-10-2019')\n",
            "(51, 'Shanmuga', 'Priya', 'shanmugapriya@guvi.com', 'Software Engineer', 40000, '08-06-2020')\n",
            "(52, 'Gowry', 'Shankar', 'gowryshankar@guvi.com', 'Senior Software Engineer', 55000, '10-08-2017')\n",
            "(53, 'Sibin', 'Xavier', 'sibinxavier@guvi.com', 'Software Engineer', 40000, '20-02-2015')\n"
          ]
        }
      ]
    },
    {
      "cell_type": "markdown",
      "source": [
        "Write an SQL query to fetch “FIRST_NAME” from the Employee table using the alias name as WORKER_NAME.\n"
      ],
      "metadata": {
        "id": "FLF5j40tzjw4"
      }
    },
    {
      "cell_type": "code",
      "source": [
        "cursor =conn.execute(\"Select First_Name AS WORKER_NAME from Employee\");\n",
        "for row in cursor:\n",
        "  print(row)"
      ],
      "metadata": {
        "id": "cQcb78ofsYfH",
        "colab": {
          "base_uri": "https://localhost:8080/"
        },
        "outputId": "e22b7190-aeba-4d3c-f238-07e0926db670"
      },
      "execution_count": 13,
      "outputs": [
        {
          "output_type": "stream",
          "name": "stdout",
          "text": [
            "('Sidharth',)\n",
            "('Aadhitya',)\n",
            "('Aadhitya',)\n",
            "('Mona',)\n",
            "('Anupama',)\n",
            "('Sibin',)\n",
            "('Akshai',)\n",
            "('Krithika',)\n",
            "('Adithi',)\n",
            "('Abhinaya',)\n",
            "('Jismi',)\n",
            "('Dhivya',)\n",
            "('Cyril',)\n",
            "('Keerthiga',)\n",
            "('Laxmi',)\n",
            "('Shiva',)\n",
            "('Padma',)\n",
            "('Kavi',)\n",
            "('Raj',)\n",
            "('Dhanya',)\n",
            "('Raj',)\n",
            "('Dhanya',)\n",
            "('Bharath',)\n",
            "('Abdhul',)\n",
            "('Abhishek',)\n",
            "('Ramesh',)\n",
            "('Santhosh',)\n",
            "('Vignesh',)\n",
            "('Hari',)\n",
            "('Sai',)\n",
            "('Tamil',)\n",
            "('Senthamizh',)\n",
            "('Linga',)\n",
            "('Raheema',)\n",
            "('Vasantha',)\n",
            "('Shiva',)\n",
            "('Kamala',)\n",
            "('Iniyan',)\n",
            "('Kriba',)\n",
            "('Sathish',)\n",
            "('Shiva',)\n",
            "('Sukirtha',)\n",
            "('Mathi',)\n",
            "('Karthigai',)\n",
            "('Kishore',)\n",
            "('Henry',)\n",
            "('Prabhu',)\n",
            "('Kithur',)\n",
            "('Bala',)\n",
            "('Sathya',)\n",
            "('Shanmuga',)\n",
            "('Gowry',)\n",
            "('Sibin',)\n"
          ]
        }
      ]
    },
    {
      "cell_type": "markdown",
      "source": [
        "Write an SQL query to fetch unique values of DEPARTMENT from the Employee table.\n"
      ],
      "metadata": {
        "id": "BjzM09bUz_ju"
      }
    },
    {
      "cell_type": "code",
      "source": [
        "cursor =conn.execute(\"Select distinct DEPARTMENT from Employee\");\n",
        "for rows in cursor:\n",
        "  print(rows)"
      ],
      "metadata": {
        "id": "nWPbjJmqzeI9",
        "colab": {
          "base_uri": "https://localhost:8080/"
        },
        "outputId": "2ab33204-1d10-4411-b23e-f109dd550b7a"
      },
      "execution_count": 14,
      "outputs": [
        {
          "output_type": "stream",
          "name": "stdout",
          "text": [
            "('Web developer',)\n",
            "('Senior Software Engineer',)\n",
            "('Software Engineer',)\n",
            "('System Analyst',)\n",
            "('Game Developer',)\n",
            "('Hardware Engineer',)\n",
            "('Web Developer',)\n",
            "('Software Application Packager',)\n",
            "('Mobile Developer',)\n",
            "('Data Scientist',)\n",
            "('Network Administrator',)\n",
            "('Software Developer',)\n"
          ]
        }
      ]
    },
    {
      "cell_type": "markdown",
      "source": [
        "Write an SQL query to show the last 5 records from a table."
      ],
      "metadata": {
        "id": "fY4f_vIi0ylL"
      }
    },
    {
      "cell_type": "code",
      "source": [
        "cursor =conn.execute(\"SELECT * from Employee ORDER BY S_No DESC LIMIT 5\");\n",
        "for rows in cursor:\n",
        "  print(rows)"
      ],
      "metadata": {
        "id": "qObDxn8x0vpd",
        "colab": {
          "base_uri": "https://localhost:8080/"
        },
        "outputId": "78d50dc0-1b01-4ac9-d8ab-2118f2968f4a"
      },
      "execution_count": 17,
      "outputs": [
        {
          "output_type": "stream",
          "name": "stdout",
          "text": [
            "(53, 'Sibin', 'Xavier', 'sibinxavier@guvi.com', 'Software Engineer', 40000, '20-02-2015')\n",
            "(52, 'Gowry', 'Shankar', 'gowryshankar@guvi.com', 'Senior Software Engineer', 55000, '10-08-2017')\n",
            "(51, 'Shanmuga', 'Priya', 'shanmugapriya@guvi.com', 'Software Engineer', 40000, '08-06-2020')\n",
            "(50, 'Sathya', 'Priya', 'sathyapriya@guvi.com', 'Mobile Developer', 30000, '19-10-2019')\n",
            "(49, 'Bala', 'Shankar', 'balashankar@guvi.com', 'Software Developer', 30000, '21-10-2017')\n"
          ]
        }
      ]
    },
    {
      "cell_type": "markdown",
      "source": [
        "Write an SQL query to print the first three characters of FIRST_NAME from Worker"
      ],
      "metadata": {
        "id": "YXgYb_O55REC"
      }
    },
    {
      "cell_type": "code",
      "source": [
        "cursor = conn.execute(\"Select SUBSTR(First_Name,1,3)as ExtractString from Employee\");\n",
        "for rows in cursor:\n",
        "  print(rows)"
      ],
      "metadata": {
        "id": "oFYTra0HzeCM",
        "colab": {
          "base_uri": "https://localhost:8080/"
        },
        "outputId": "bbb144be-3425-48ee-b865-d14e3ce21462"
      },
      "execution_count": 18,
      "outputs": [
        {
          "output_type": "stream",
          "name": "stdout",
          "text": [
            "('Sid',)\n",
            "('Aad',)\n",
            "('Aad',)\n",
            "('Mon',)\n",
            "('Anu',)\n",
            "('Sib',)\n",
            "('Aks',)\n",
            "('Kri',)\n",
            "('Adi',)\n",
            "('Abh',)\n",
            "('Jis',)\n",
            "('Dhi',)\n",
            "('Cyr',)\n",
            "('Kee',)\n",
            "('Lax',)\n",
            "('Shi',)\n",
            "('Pad',)\n",
            "('Kav',)\n",
            "('Raj',)\n",
            "('Dha',)\n",
            "('Raj',)\n",
            "('Dha',)\n",
            "('Bha',)\n",
            "('Abd',)\n",
            "('Abh',)\n",
            "('Ram',)\n",
            "('San',)\n",
            "('Vig',)\n",
            "('Har',)\n",
            "('Sai',)\n",
            "('Tam',)\n",
            "('Sen',)\n",
            "('Lin',)\n",
            "('Rah',)\n",
            "('Vas',)\n",
            "('Shi',)\n",
            "('Kam',)\n",
            "('Ini',)\n",
            "('Kri',)\n",
            "('Sat',)\n",
            "('Shi',)\n",
            "('Suk',)\n",
            "('Mat',)\n",
            "('Kar',)\n",
            "('Kis',)\n",
            "('Hen',)\n",
            "('Pra',)\n",
            "('Kit',)\n",
            "('Bal',)\n",
            "('Sat',)\n",
            "('Sha',)\n",
            "('Gow',)\n",
            "('Sib',)\n"
          ]
        }
      ]
    },
    {
      "cell_type": "markdown",
      "source": [
        "Write an SQL query to find the position of the alphabet (‘a’) in the first name\n"
      ],
      "metadata": {
        "id": "OGkmip1X82KP"
      }
    },
    {
      "cell_type": "code",
      "source": [
        "cursor = conn.execute(\"Select INSTR(First_Name, 'a') from Employee where First_Name = 'Sidharth'\");\n",
        "for row in cursor:\n",
        "  print(row)"
      ],
      "metadata": {
        "id": "ge-VbtEzzd8o",
        "colab": {
          "base_uri": "https://localhost:8080/"
        },
        "outputId": "0651d53f-3b34-4e3f-9056-deb645a3e417"
      },
      "execution_count": 19,
      "outputs": [
        {
          "output_type": "stream",
          "name": "stdout",
          "text": [
            "(5,)\n"
          ]
        }
      ]
    },
    {
      "cell_type": "markdown",
      "source": [
        "Write an SQL query to print the name of employees who have the highest salary in each department."
      ],
      "metadata": {
        "id": "YWy8j-1dCj7M"
      }
    },
    {
      "cell_type": "code",
      "source": [
        "cursor =conn.execute(\"SELECT First_Name from Employee where Salary =(SELECT MAX(Salary)from Employee) \");\n",
        "for rows in cursor:\n",
        "  print(rows)"
      ],
      "metadata": {
        "id": "WQ5UBCIhzdzN",
        "colab": {
          "base_uri": "https://localhost:8080/"
        },
        "outputId": "e4a6ef4a-5f26-42c6-f412-d94351bd9436"
      },
      "execution_count": 20,
      "outputs": [
        {
          "output_type": "stream",
          "name": "stdout",
          "text": [
            "('Vignesh',)\n"
          ]
        }
      ]
    },
    {
      "cell_type": "markdown",
      "source": [
        "Write an SQL query to print the FIRST_NAME from the Worker table after removing white spaces from the right side"
      ],
      "metadata": {
        "id": "XJ5xMrNy33gl"
      }
    },
    {
      "cell_type": "code",
      "source": [
        "cursor =conn.execute(\"Select RTRIM(First_Name) from Employee\");\n",
        "for rows in cursor:\n",
        "  print(rows)"
      ],
      "metadata": {
        "id": "XTxvNOZzzdvL",
        "colab": {
          "base_uri": "https://localhost:8080/"
        },
        "outputId": "969bb1ae-0d67-4a86-fe39-239d789162e3"
      },
      "execution_count": 21,
      "outputs": [
        {
          "output_type": "stream",
          "name": "stdout",
          "text": [
            "('Sidharth',)\n",
            "('Aadhitya',)\n",
            "('Aadhitya',)\n",
            "('Mona',)\n",
            "('Anupama',)\n",
            "('Sibin',)\n",
            "('Akshai',)\n",
            "('Krithika',)\n",
            "('Adithi',)\n",
            "('Abhinaya',)\n",
            "('Jismi',)\n",
            "('Dhivya',)\n",
            "('Cyril',)\n",
            "('Keerthiga',)\n",
            "('Laxmi',)\n",
            "('Shiva',)\n",
            "('Padma',)\n",
            "('Kavi',)\n",
            "('Raj',)\n",
            "('Dhanya',)\n",
            "('Raj',)\n",
            "('Dhanya',)\n",
            "('Bharath',)\n",
            "('Abdhul',)\n",
            "('Abhishek',)\n",
            "('Ramesh',)\n",
            "('Santhosh',)\n",
            "('Vignesh',)\n",
            "('Hari',)\n",
            "('Sai',)\n",
            "('Tamil',)\n",
            "('Senthamizh',)\n",
            "('Linga',)\n",
            "('Raheema',)\n",
            "('Vasantha',)\n",
            "('Shiva',)\n",
            "('Kamala',)\n",
            "('Iniyan',)\n",
            "('Kriba',)\n",
            "('Sathish',)\n",
            "('Shiva',)\n",
            "('Sukirtha',)\n",
            "('Mathi',)\n",
            "('Karthigai',)\n",
            "('Kishore',)\n",
            "('Henry',)\n",
            "('Prabhu',)\n",
            "('Kithur',)\n",
            "('Bala',)\n",
            "('Sathya',)\n",
            "('Shanmuga',)\n",
            "('Gowry',)\n",
            "('Sibin',)\n"
          ]
        }
      ]
    },
    {
      "cell_type": "markdown",
      "source": [
        "Write an SQL query that fetches the unique values of DEPARTMENT from the Worker table and prints its length.\n"
      ],
      "metadata": {
        "id": "AhqNfR1z4whu"
      }
    },
    {
      "cell_type": "code",
      "source": [
        "cursor =conn.execute(\"Select distinct length(Department) from Employee\");\n",
        "for rows in cursor:\n",
        "  print(rows)"
      ],
      "metadata": {
        "id": "_0fAze5jzdoi",
        "colab": {
          "base_uri": "https://localhost:8080/"
        },
        "outputId": "ef86b750-e2fa-4156-aaed-7ecc9b66cb18"
      },
      "execution_count": 22,
      "outputs": [
        {
          "output_type": "stream",
          "name": "stdout",
          "text": [
            "(13,)\n",
            "(24,)\n",
            "(17,)\n",
            "(14,)\n",
            "(29,)\n",
            "(16,)\n",
            "(21,)\n",
            "(18,)\n"
          ]
        }
      ]
    },
    {
      "cell_type": "markdown",
      "source": [
        "Write an SQL query to fetch nth max salaries from a table."
      ],
      "metadata": {
        "id": "PWuwOOoM5RbH"
      }
    },
    {
      "cell_type": "code",
      "source": [
        "cursor =conn.execute(\"select * from ((select * from Employee ORDER BY `Salary` DESC limit 3 ) AS T) ORDER BY T.`Salary` ASC limit 1;\");\n",
        "for rows in cursor:\n",
        "  print(\"3rd max salary\",rows)"
      ],
      "metadata": {
        "id": "wI1e50jHzdir",
        "colab": {
          "base_uri": "https://localhost:8080/"
        },
        "outputId": "42475b64-9638-4446-8648-7890704c63e4"
      },
      "execution_count": 23,
      "outputs": [
        {
          "output_type": "stream",
          "name": "stdout",
          "text": [
            "3rd max salary (2, 'Aadhitya', 'Varma', 'aadhityavarma@guvi.com', 'Senior Software Engineer', 65000, '12-05-2010')\n"
          ]
        }
      ]
    },
    {
      "cell_type": "markdown",
      "source": [
        "Write an SQL query to print the FIRST_NAME from the Worker table after replacing ‘a’ with ‘A’."
      ],
      "metadata": {
        "id": "0Kuekt_2h8kK"
      }
    },
    {
      "cell_type": "code",
      "source": [
        "cursor =conn.execute(\"Select REPLACE(First_Name,'a','A') from Employee\");\n",
        "for rows in cursor:\n",
        "  print(rows)"
      ],
      "metadata": {
        "id": "WUvqlhD4zdZ4",
        "colab": {
          "base_uri": "https://localhost:8080/"
        },
        "outputId": "d5e8738a-fc38-4fdf-b23e-e647cd9ff837"
      },
      "execution_count": 24,
      "outputs": [
        {
          "output_type": "stream",
          "name": "stdout",
          "text": [
            "('SidhArth',)\n",
            "('AAdhityA',)\n",
            "('AAdhityA',)\n",
            "('MonA',)\n",
            "('AnupAmA',)\n",
            "('Sibin',)\n",
            "('AkshAi',)\n",
            "('KrithikA',)\n",
            "('Adithi',)\n",
            "('AbhinAyA',)\n",
            "('Jismi',)\n",
            "('DhivyA',)\n",
            "('Cyril',)\n",
            "('KeerthigA',)\n",
            "('LAxmi',)\n",
            "('ShivA',)\n",
            "('PAdmA',)\n",
            "('KAvi',)\n",
            "('RAj',)\n",
            "('DhAnyA',)\n",
            "('RAj',)\n",
            "('DhAnyA',)\n",
            "('BhArAth',)\n",
            "('Abdhul',)\n",
            "('Abhishek',)\n",
            "('RAmesh',)\n",
            "('SAnthosh',)\n",
            "('Vignesh',)\n",
            "('HAri',)\n",
            "('SAi',)\n",
            "('TAmil',)\n",
            "('SenthAmizh',)\n",
            "('LingA',)\n",
            "('RAheemA',)\n",
            "('VAsAnthA',)\n",
            "('ShivA',)\n",
            "('KAmAlA',)\n",
            "('IniyAn',)\n",
            "('KribA',)\n",
            "('SAthish',)\n",
            "('ShivA',)\n",
            "('SukirthA',)\n",
            "('MAthi',)\n",
            "('KArthigAi',)\n",
            "('Kishore',)\n",
            "('Henry',)\n",
            "('PrAbhu',)\n",
            "('Kithur',)\n",
            "('BAlA',)\n",
            "('SAthyA',)\n",
            "('ShAnmugA',)\n",
            "('Gowry',)\n",
            "('Sibin',)\n"
          ]
        }
      ]
    },
    {
      "cell_type": "markdown",
      "source": [
        "Write an SQL query to print all Worker details from the Worker table order FIRST_NAME Ascending and DEPARTMENT Descending.\n"
      ],
      "metadata": {
        "id": "GELYOuuOlvqW"
      }
    },
    {
      "cell_type": "code",
      "source": [
        "cursor =conn.execute(\"Select * from Employee order by First_Name asc,Department desc\");\n",
        "for rows in cursor:\n",
        "  print(rows)"
      ],
      "metadata": {
        "id": "O3SMdR5Wlz43",
        "colab": {
          "base_uri": "https://localhost:8080/"
        },
        "outputId": "80de692d-824a-4521-fde2-e6e87da0d111"
      },
      "execution_count": 25,
      "outputs": [
        {
          "output_type": "stream",
          "name": "stdout",
          "text": [
            "(2, 'Aadhitya', 'Varma', 'aadhityavarma@guvi.com', 'Senior Software Engineer', 65000, '12-05-2010')\n",
            "(3, 'Aadhitya', 'Varma', 'aadhityavarma@guvi.com', 'Senior Software Engineer', 65000, '12-05-2010')\n",
            "(24, 'Abdhul', 'Hameed', 'abdhulhameed@guvi.com', 'Senior Software Engineer', 60000, '12-06-2019')\n",
            "(10, 'Abhinaya', 'Shree', 'abhinayashree@guvi.com', 'Web Developer', 20000, '12-10-2021')\n",
            "(25, 'Abhishek', 'Sharma', 'abhisheksharma@guvi.com', 'System Analyst', 50000, '22-05-2018')\n",
            "(9, 'Adithi', 'Rao', 'adithirao@guvi.com', 'Hardware Engineer', 20000, '23-05-2020')\n",
            "(7, 'Akshai', 'Kumar', 'akshaikumar@guvi.com', 'System Analyst', 50000, '04-07-2017')\n",
            "(5, 'Anupama', 'Nair', 'anupamanair@guvi.com', 'Software Engineer', 40000, '21-01-2015')\n",
            "(49, 'Bala', 'Shankar', 'balashankar@guvi.com', 'Software Developer', 30000, '21-10-2017')\n",
            "(23, 'Bharath', 'Raj', 'bharathraj@guvi.com', 'Software Engineer', 40000, '28-09-2021')\n",
            "(13, 'Cyril', 'Mol', 'cyrilmol@guvi.com', 'Software Engineer', 45000, '12-05-2022')\n",
            "(20, 'Dhanya', 'Surabi', 'dhanyasurabi@guvi.com', 'Mobile Developer', 30000, '05-07-2020')\n",
            "(22, 'Dhanya', 'Surabi', 'dhanyasurabi@guvi.com', 'Mobile Developer', 30000, '05-07-2020')\n",
            "(12, 'Dhivya', 'Bharathi', 'dhivyabharathi@guvi.com', 'Software Engineer', 45000, '05-12-2021')\n",
            "(52, 'Gowry', 'Shankar', 'gowryshankar@guvi.com', 'Senior Software Engineer', 55000, '10-08-2017')\n",
            "(29, 'Hari', 'Doss', 'haridoss@guvi.com', 'Web Developer', 20000, '16-06-2019')\n",
            "(46, 'Henry', 'Roshan', 'henryroshan@guvi.com', 'Web Developer', 20000, '10-09-2019')\n",
            "(38, 'Iniyan', 'Venkat', 'iniyanvenkat@guvi.com', 'Software Developer', 30000, '20-02-2020')\n",
            "(11, 'Jismi', 'Mary', 'jismimary@guvi.com', 'Senior Software Engineer', 60000, '12-12-2011')\n",
            "(37, 'Kamala', 'Devi', 'kamaladevi@guvi.com', 'Mobile Developer', 25000, '05-07-2020')\n",
            "(44, 'Karthigai', 'Selvi', 'karthigaiselvi@guvi.com', 'Web Developer', 25000, '13-03-2019')\n",
            "(18, 'Kavi', 'Arasan', 'kaviarasan@guvi.com', 'Software Engineer', 40000, '23-05-2020')\n",
            "(14, 'Keerthiga', 'Devi', 'keerthigadevi@guvi.com', 'Software Engineer', 50000, '02-07-2009')\n",
            "(45, 'Kishore', 'Kannan', 'kishorekannan@guvi.com', 'Network Administrator', 40000, '11-09-2021')\n",
            "(48, 'Kithur', 'Sumaresh', 'kithursumaresh@guvi.com', 'Mobile Developer', 25000, '17-10-2020')\n",
            "(39, 'Kriba', 'Karan', 'kribakaran@guvi.com', 'Mobile Developer', 30000, '31-05-2021')\n",
            "(8, 'Krithika', 'Shankari', 'krithikashankari@guvi.com', 'Game Developer', 28000, '23-10-2021')\n",
            "(15, 'Laxmi', 'Prabha', 'laxmiprabha@guvi.com', 'Senior Software Engineer', 60000, '25-07-2010')\n",
            "(33, 'Linga', 'Mithra', 'lingamithra@guvi.com', 'Senior Software Engineer', 60000, '27-04-2019')\n",
            "(43, 'Mathi', 'Azhagan', 'mathiazhagan@guvi.com', 'Network Administrator', 40000, '15-06-2017')\n",
            "(4, 'Mona', 'Varghese', 'monavarghese@guvi.com', 'Senior Software Engineer', 65000, '12-10-2011')\n",
            "(17, 'Padma', 'Priya', 'padmapriya@guvi.com', 'Software Engineer', 35000, '01-08-2019')\n",
            "(47, 'Prabhu', 'Deva', 'prabhudeva@guvi.com', 'System Analyst', 50000, '11-11-2011')\n",
            "(34, 'Raheema', 'Sulthana', 'raheemasulthana@guvi.com', 'Software Engineer', 40000, '17-09-2020')\n",
            "(19, 'Raj', 'Kumar', 'rajkumar@guvi.com', 'Software Application Packager', 55000, '01-06-2019')\n",
            "(21, 'Raj', 'Kumar', 'rajkumar@guvi.com', 'Software Application Packager', 55000, '01-06-2019')\n",
            "(26, 'Ramesh', 'Babu', 'rameshbabu@guvi.com', 'Senior Software Engineer', 60000, '17-06-2018')\n",
            "(30, 'Sai', 'Balaji', 'saibalaji@guvi.com', 'Mobile Developer', 25000, '12-09-2019')\n",
            "(27, 'Santhosh', 'Kumar', 'santhoshkumar@guvi.com', 'System Analyst', 50000, '22-06-2020')\n",
            "(40, 'Sathish', 'Kumar', 'sathishkumar@guvi.com', 'System Analyst', 45000, '17-09-2019')\n",
            "(50, 'Sathya', 'Priya', 'sathyapriya@guvi.com', 'Mobile Developer', 30000, '19-10-2019')\n",
            "(32, 'Senthamizh', 'Selvan', 'senthamizhselvan@guvi.com', 'Network Administrator', 40000, '16-11-2021')\n",
            "(51, 'Shanmuga', 'Priya', 'shanmugapriya@guvi.com', 'Software Engineer', 40000, '08-06-2020')\n",
            "(41, 'Shiva', 'Ranjani', 'shivaranjani@guvi.com', 'Software Engineer', 40000, '23-05-2019')\n",
            "(16, 'Shiva', 'Senthil', 'shivasenthil@guvi.com', 'Senior Software Engineer', 60000, '08-11-2010')\n",
            "(36, 'Shiva', 'Raj', 'shivaraj@guvi.com', 'Network Administrator', 40000, '14-08-2017')\n",
            "(6, 'Sibin', 'Xavier', 'sibinxavier@guvi.com', 'Software Engineer', 45000, '15-10-2013')\n",
            "(53, 'Sibin', 'Xavier', 'sibinxavier@guvi.com', 'Software Engineer', 40000, '20-02-2015')\n",
            "(1, 'Sidharth', 'Abhimanyu', 'sidharthabhimanyu@guvi.com', 'Web developer', 20000, '05-05-2020')\n",
            "(42, 'Sukirtha', 'Sri', 'sukirthasri@guvi.com', 'Web Developer', 25000, '19-10-2021')\n",
            "(31, 'Tamil', 'Arasu', 'tamilarasu@guvi.com', 'Web Developer', 20000, '28-09-2021')\n",
            "(35, 'Vasantha', 'Mohan', 'vasanthamohan@guvi.com', 'Senior Software Engineer', 60000, '11-11-2017')\n",
            "(28, 'Vignesh', 'kumar', 'vigneshkumar@guvi.com', 'Data Scientist', 70000, '22-03-2020')\n"
          ]
        }
      ]
    },
    {
      "cell_type": "markdown",
      "source": [
        "Write an SQL query to fetch the names of workers who earn the highest salary.\n"
      ],
      "metadata": {
        "id": "6If-RQuR353V"
      }
    },
    {
      "cell_type": "code",
      "source": [
        "cursor =conn.execute(\"select Department, max(Salary) from Employee group by Department\");\n",
        "for rows in cursor:\n",
        "  print(rows)"
      ],
      "metadata": {
        "id": "eHhd7vP1349M",
        "colab": {
          "base_uri": "https://localhost:8080/"
        },
        "outputId": "e2025744-4b59-4d2a-a515-804358972726"
      },
      "execution_count": 26,
      "outputs": [
        {
          "output_type": "stream",
          "name": "stdout",
          "text": [
            "('Data Scientist', 70000)\n",
            "('Game Developer', 28000)\n",
            "('Hardware Engineer', 20000)\n",
            "('Mobile Developer', 30000)\n",
            "('Network Administrator', 40000)\n",
            "('Senior Software Engineer', 65000)\n",
            "('Software Application Packager', 55000)\n",
            "('Software Developer', 30000)\n",
            "('Software Engineer', 50000)\n",
            "('System Analyst', 50000)\n",
            "('Web Developer', 25000)\n",
            "('Web developer', 20000)\n"
          ]
        }
      ]
    },
    {
      "cell_type": "markdown",
      "source": [
        "Write an SQL query to print details of workers excluding first names, “Ramesh” and “Santhosh” from the Worker table.\n"
      ],
      "metadata": {
        "id": "3quUAi68IDF8"
      }
    },
    {
      "cell_type": "code",
      "source": [
        "cursor =conn.execute(\"Select * from Employee where First_Name not in ('Ramesh','Santhosh')\");\n",
        "for rows in cursor:\n",
        "  print(rows)"
      ],
      "metadata": {
        "id": "ZIkwQcn0IIiS",
        "colab": {
          "base_uri": "https://localhost:8080/"
        },
        "outputId": "9b2fce35-b49e-487c-db54-67f08551213f"
      },
      "execution_count": 27,
      "outputs": [
        {
          "output_type": "stream",
          "name": "stdout",
          "text": [
            "(1, 'Sidharth', 'Abhimanyu', 'sidharthabhimanyu@guvi.com', 'Web developer', 20000, '05-05-2020')\n",
            "(2, 'Aadhitya', 'Varma', 'aadhityavarma@guvi.com', 'Senior Software Engineer', 65000, '12-05-2010')\n",
            "(3, 'Aadhitya', 'Varma', 'aadhityavarma@guvi.com', 'Senior Software Engineer', 65000, '12-05-2010')\n",
            "(4, 'Mona', 'Varghese', 'monavarghese@guvi.com', 'Senior Software Engineer', 65000, '12-10-2011')\n",
            "(5, 'Anupama', 'Nair', 'anupamanair@guvi.com', 'Software Engineer', 40000, '21-01-2015')\n",
            "(6, 'Sibin', 'Xavier', 'sibinxavier@guvi.com', 'Software Engineer', 45000, '15-10-2013')\n",
            "(7, 'Akshai', 'Kumar', 'akshaikumar@guvi.com', 'System Analyst', 50000, '04-07-2017')\n",
            "(8, 'Krithika', 'Shankari', 'krithikashankari@guvi.com', 'Game Developer', 28000, '23-10-2021')\n",
            "(9, 'Adithi', 'Rao', 'adithirao@guvi.com', 'Hardware Engineer', 20000, '23-05-2020')\n",
            "(10, 'Abhinaya', 'Shree', 'abhinayashree@guvi.com', 'Web Developer', 20000, '12-10-2021')\n",
            "(11, 'Jismi', 'Mary', 'jismimary@guvi.com', 'Senior Software Engineer', 60000, '12-12-2011')\n",
            "(12, 'Dhivya', 'Bharathi', 'dhivyabharathi@guvi.com', 'Software Engineer', 45000, '05-12-2021')\n",
            "(13, 'Cyril', 'Mol', 'cyrilmol@guvi.com', 'Software Engineer', 45000, '12-05-2022')\n",
            "(14, 'Keerthiga', 'Devi', 'keerthigadevi@guvi.com', 'Software Engineer', 50000, '02-07-2009')\n",
            "(15, 'Laxmi', 'Prabha', 'laxmiprabha@guvi.com', 'Senior Software Engineer', 60000, '25-07-2010')\n",
            "(16, 'Shiva', 'Senthil', 'shivasenthil@guvi.com', 'Senior Software Engineer', 60000, '08-11-2010')\n",
            "(17, 'Padma', 'Priya', 'padmapriya@guvi.com', 'Software Engineer', 35000, '01-08-2019')\n",
            "(18, 'Kavi', 'Arasan', 'kaviarasan@guvi.com', 'Software Engineer', 40000, '23-05-2020')\n",
            "(19, 'Raj', 'Kumar', 'rajkumar@guvi.com', 'Software Application Packager', 55000, '01-06-2019')\n",
            "(20, 'Dhanya', 'Surabi', 'dhanyasurabi@guvi.com', 'Mobile Developer', 30000, '05-07-2020')\n",
            "(21, 'Raj', 'Kumar', 'rajkumar@guvi.com', 'Software Application Packager', 55000, '01-06-2019')\n",
            "(22, 'Dhanya', 'Surabi', 'dhanyasurabi@guvi.com', 'Mobile Developer', 30000, '05-07-2020')\n",
            "(23, 'Bharath', 'Raj', 'bharathraj@guvi.com', 'Software Engineer', 40000, '28-09-2021')\n",
            "(24, 'Abdhul', 'Hameed', 'abdhulhameed@guvi.com', 'Senior Software Engineer', 60000, '12-06-2019')\n",
            "(25, 'Abhishek', 'Sharma', 'abhisheksharma@guvi.com', 'System Analyst', 50000, '22-05-2018')\n",
            "(28, 'Vignesh', 'kumar', 'vigneshkumar@guvi.com', 'Data Scientist', 70000, '22-03-2020')\n",
            "(29, 'Hari', 'Doss', 'haridoss@guvi.com', 'Web Developer', 20000, '16-06-2019')\n",
            "(30, 'Sai', 'Balaji', 'saibalaji@guvi.com', 'Mobile Developer', 25000, '12-09-2019')\n",
            "(31, 'Tamil', 'Arasu', 'tamilarasu@guvi.com', 'Web Developer', 20000, '28-09-2021')\n",
            "(32, 'Senthamizh', 'Selvan', 'senthamizhselvan@guvi.com', 'Network Administrator', 40000, '16-11-2021')\n",
            "(33, 'Linga', 'Mithra', 'lingamithra@guvi.com', 'Senior Software Engineer', 60000, '27-04-2019')\n",
            "(34, 'Raheema', 'Sulthana', 'raheemasulthana@guvi.com', 'Software Engineer', 40000, '17-09-2020')\n",
            "(35, 'Vasantha', 'Mohan', 'vasanthamohan@guvi.com', 'Senior Software Engineer', 60000, '11-11-2017')\n",
            "(36, 'Shiva', 'Raj', 'shivaraj@guvi.com', 'Network Administrator', 40000, '14-08-2017')\n",
            "(37, 'Kamala', 'Devi', 'kamaladevi@guvi.com', 'Mobile Developer', 25000, '05-07-2020')\n",
            "(38, 'Iniyan', 'Venkat', 'iniyanvenkat@guvi.com', 'Software Developer', 30000, '20-02-2020')\n",
            "(39, 'Kriba', 'Karan', 'kribakaran@guvi.com', 'Mobile Developer', 30000, '31-05-2021')\n",
            "(40, 'Sathish', 'Kumar', 'sathishkumar@guvi.com', 'System Analyst', 45000, '17-09-2019')\n",
            "(41, 'Shiva', 'Ranjani', 'shivaranjani@guvi.com', 'Software Engineer', 40000, '23-05-2019')\n",
            "(42, 'Sukirtha', 'Sri', 'sukirthasri@guvi.com', 'Web Developer', 25000, '19-10-2021')\n",
            "(43, 'Mathi', 'Azhagan', 'mathiazhagan@guvi.com', 'Network Administrator', 40000, '15-06-2017')\n",
            "(44, 'Karthigai', 'Selvi', 'karthigaiselvi@guvi.com', 'Web Developer', 25000, '13-03-2019')\n",
            "(45, 'Kishore', 'Kannan', 'kishorekannan@guvi.com', 'Network Administrator', 40000, '11-09-2021')\n",
            "(46, 'Henry', 'Roshan', 'henryroshan@guvi.com', 'Web Developer', 20000, '10-09-2019')\n",
            "(47, 'Prabhu', 'Deva', 'prabhudeva@guvi.com', 'System Analyst', 50000, '11-11-2011')\n",
            "(48, 'Kithur', 'Sumaresh', 'kithursumaresh@guvi.com', 'Mobile Developer', 25000, '17-10-2020')\n",
            "(49, 'Bala', 'Shankar', 'balashankar@guvi.com', 'Software Developer', 30000, '21-10-2017')\n",
            "(50, 'Sathya', 'Priya', 'sathyapriya@guvi.com', 'Mobile Developer', 30000, '19-10-2019')\n",
            "(51, 'Shanmuga', 'Priya', 'shanmugapriya@guvi.com', 'Software Engineer', 40000, '08-06-2020')\n",
            "(52, 'Gowry', 'Shankar', 'gowryshankar@guvi.com', 'Senior Software Engineer', 55000, '10-08-2017')\n",
            "(53, 'Sibin', 'Xavier', 'sibinxavier@guvi.com', 'Software Engineer', 40000, '20-02-2015')\n"
          ]
        }
      ]
    },
    {
      "cell_type": "markdown",
      "source": [
        "Write an SQL query to print details of the Workers whose FIRST_NAME ends with ‘h’ and contains six alphabets"
      ],
      "metadata": {
        "id": "GL1yiZTzIp3j"
      }
    },
    {
      "cell_type": "code",
      "source": [
        "cursor =conn.execute(\"Select * from Employee where First_Name like '_____h'\");\n",
        "for rows in cursor:\n",
        "  print(rows)"
      ],
      "metadata": {
        "id": "Ont9GLJuIt3I",
        "colab": {
          "base_uri": "https://localhost:8080/"
        },
        "outputId": "861978fd-cb46-4cf5-de6f-9246ee0394ca"
      },
      "execution_count": 28,
      "outputs": [
        {
          "output_type": "stream",
          "name": "stdout",
          "text": [
            "(26, 'Ramesh', 'Babu', 'rameshbabu@guvi.com', 'Senior Software Engineer', 60000, '17-06-2018')\n"
          ]
        }
      ]
    },
    {
      "cell_type": "markdown",
      "source": [
        "Write a query to validate Email of Employee (email should have first name last name and guvi.com example (first name=Kamal last name= raja and the mail id should be kamalraja@guvi.com).\n"
      ],
      "metadata": {
        "id": "PfLSGTtfJLC2"
      }
    },
    {
      "cell_type": "code",
      "source": [
        "cursor =conn.execute(\"SELECT * FROM Employee WHERE Email_id LIKE '%@guvi.com'\");\n",
        "for rows in cursor:\n",
        "  print(rows)"
      ],
      "metadata": {
        "id": "07UEKm_OJR5w",
        "colab": {
          "base_uri": "https://localhost:8080/"
        },
        "outputId": "d5b4a24e-0367-4f1c-ef1d-a5d0b21a7e08"
      },
      "execution_count": 29,
      "outputs": [
        {
          "output_type": "stream",
          "name": "stdout",
          "text": [
            "(1, 'Sidharth', 'Abhimanyu', 'sidharthabhimanyu@guvi.com', 'Web developer', 20000, '05-05-2020')\n",
            "(2, 'Aadhitya', 'Varma', 'aadhityavarma@guvi.com', 'Senior Software Engineer', 65000, '12-05-2010')\n",
            "(3, 'Aadhitya', 'Varma', 'aadhityavarma@guvi.com', 'Senior Software Engineer', 65000, '12-05-2010')\n",
            "(4, 'Mona', 'Varghese', 'monavarghese@guvi.com', 'Senior Software Engineer', 65000, '12-10-2011')\n",
            "(5, 'Anupama', 'Nair', 'anupamanair@guvi.com', 'Software Engineer', 40000, '21-01-2015')\n",
            "(6, 'Sibin', 'Xavier', 'sibinxavier@guvi.com', 'Software Engineer', 45000, '15-10-2013')\n",
            "(7, 'Akshai', 'Kumar', 'akshaikumar@guvi.com', 'System Analyst', 50000, '04-07-2017')\n",
            "(8, 'Krithika', 'Shankari', 'krithikashankari@guvi.com', 'Game Developer', 28000, '23-10-2021')\n",
            "(9, 'Adithi', 'Rao', 'adithirao@guvi.com', 'Hardware Engineer', 20000, '23-05-2020')\n",
            "(10, 'Abhinaya', 'Shree', 'abhinayashree@guvi.com', 'Web Developer', 20000, '12-10-2021')\n",
            "(11, 'Jismi', 'Mary', 'jismimary@guvi.com', 'Senior Software Engineer', 60000, '12-12-2011')\n",
            "(12, 'Dhivya', 'Bharathi', 'dhivyabharathi@guvi.com', 'Software Engineer', 45000, '05-12-2021')\n",
            "(13, 'Cyril', 'Mol', 'cyrilmol@guvi.com', 'Software Engineer', 45000, '12-05-2022')\n",
            "(14, 'Keerthiga', 'Devi', 'keerthigadevi@guvi.com', 'Software Engineer', 50000, '02-07-2009')\n",
            "(15, 'Laxmi', 'Prabha', 'laxmiprabha@guvi.com', 'Senior Software Engineer', 60000, '25-07-2010')\n",
            "(16, 'Shiva', 'Senthil', 'shivasenthil@guvi.com', 'Senior Software Engineer', 60000, '08-11-2010')\n",
            "(17, 'Padma', 'Priya', 'padmapriya@guvi.com', 'Software Engineer', 35000, '01-08-2019')\n",
            "(18, 'Kavi', 'Arasan', 'kaviarasan@guvi.com', 'Software Engineer', 40000, '23-05-2020')\n",
            "(19, 'Raj', 'Kumar', 'rajkumar@guvi.com', 'Software Application Packager', 55000, '01-06-2019')\n",
            "(20, 'Dhanya', 'Surabi', 'dhanyasurabi@guvi.com', 'Mobile Developer', 30000, '05-07-2020')\n",
            "(21, 'Raj', 'Kumar', 'rajkumar@guvi.com', 'Software Application Packager', 55000, '01-06-2019')\n",
            "(22, 'Dhanya', 'Surabi', 'dhanyasurabi@guvi.com', 'Mobile Developer', 30000, '05-07-2020')\n",
            "(23, 'Bharath', 'Raj', 'bharathraj@guvi.com', 'Software Engineer', 40000, '28-09-2021')\n",
            "(24, 'Abdhul', 'Hameed', 'abdhulhameed@guvi.com', 'Senior Software Engineer', 60000, '12-06-2019')\n",
            "(25, 'Abhishek', 'Sharma', 'abhisheksharma@guvi.com', 'System Analyst', 50000, '22-05-2018')\n",
            "(26, 'Ramesh', 'Babu', 'rameshbabu@guvi.com', 'Senior Software Engineer', 60000, '17-06-2018')\n",
            "(27, 'Santhosh', 'Kumar', 'santhoshkumar@guvi.com', 'System Analyst', 50000, '22-06-2020')\n",
            "(28, 'Vignesh', 'kumar', 'vigneshkumar@guvi.com', 'Data Scientist', 70000, '22-03-2020')\n",
            "(29, 'Hari', 'Doss', 'haridoss@guvi.com', 'Web Developer', 20000, '16-06-2019')\n",
            "(30, 'Sai', 'Balaji', 'saibalaji@guvi.com', 'Mobile Developer', 25000, '12-09-2019')\n",
            "(31, 'Tamil', 'Arasu', 'tamilarasu@guvi.com', 'Web Developer', 20000, '28-09-2021')\n",
            "(32, 'Senthamizh', 'Selvan', 'senthamizhselvan@guvi.com', 'Network Administrator', 40000, '16-11-2021')\n",
            "(33, 'Linga', 'Mithra', 'lingamithra@guvi.com', 'Senior Software Engineer', 60000, '27-04-2019')\n",
            "(34, 'Raheema', 'Sulthana', 'raheemasulthana@guvi.com', 'Software Engineer', 40000, '17-09-2020')\n",
            "(35, 'Vasantha', 'Mohan', 'vasanthamohan@guvi.com', 'Senior Software Engineer', 60000, '11-11-2017')\n",
            "(36, 'Shiva', 'Raj', 'shivaraj@guvi.com', 'Network Administrator', 40000, '14-08-2017')\n",
            "(37, 'Kamala', 'Devi', 'kamaladevi@guvi.com', 'Mobile Developer', 25000, '05-07-2020')\n",
            "(38, 'Iniyan', 'Venkat', 'iniyanvenkat@guvi.com', 'Software Developer', 30000, '20-02-2020')\n",
            "(39, 'Kriba', 'Karan', 'kribakaran@guvi.com', 'Mobile Developer', 30000, '31-05-2021')\n",
            "(40, 'Sathish', 'Kumar', 'sathishkumar@guvi.com', 'System Analyst', 45000, '17-09-2019')\n",
            "(41, 'Shiva', 'Ranjani', 'shivaranjani@guvi.com', 'Software Engineer', 40000, '23-05-2019')\n",
            "(42, 'Sukirtha', 'Sri', 'sukirthasri@guvi.com', 'Web Developer', 25000, '19-10-2021')\n",
            "(43, 'Mathi', 'Azhagan', 'mathiazhagan@guvi.com', 'Network Administrator', 40000, '15-06-2017')\n",
            "(44, 'Karthigai', 'Selvi', 'karthigaiselvi@guvi.com', 'Web Developer', 25000, '13-03-2019')\n",
            "(45, 'Kishore', 'Kannan', 'kishorekannan@guvi.com', 'Network Administrator', 40000, '11-09-2021')\n",
            "(46, 'Henry', 'Roshan', 'henryroshan@guvi.com', 'Web Developer', 20000, '10-09-2019')\n",
            "(47, 'Prabhu', 'Deva', 'prabhudeva@guvi.com', 'System Analyst', 50000, '11-11-2011')\n",
            "(48, 'Kithur', 'Sumaresh', 'kithursumaresh@guvi.com', 'Mobile Developer', 25000, '17-10-2020')\n",
            "(49, 'Bala', 'Shankar', 'balashankar@guvi.com', 'Software Developer', 30000, '21-10-2017')\n",
            "(50, 'Sathya', 'Priya', 'sathyapriya@guvi.com', 'Mobile Developer', 30000, '19-10-2019')\n",
            "(51, 'Shanmuga', 'Priya', 'shanmugapriya@guvi.com', 'Software Engineer', 40000, '08-06-2020')\n",
            "(52, 'Gowry', 'Shankar', 'gowryshankar@guvi.com', 'Senior Software Engineer', 55000, '10-08-2017')\n",
            "(53, 'Sibin', 'Xavier', 'sibinxavier@guvi.com', 'Software Engineer', 40000, '20-02-2015')\n"
          ]
        }
      ]
    },
    {
      "cell_type": "markdown",
      "source": [
        "Write an SQL query to print details of the Workers who have joined in March ’2021.\n"
      ],
      "metadata": {
        "id": "FNMxT0N271ww"
      }
    },
    {
      "cell_type": "code",
      "source": [
        "cursor =conn.execute(\"Select * from Employee where (Join_Date) = 2021 and (Join_Date) = 3\");\n",
        "for rows in cursor:\n",
        "  print(rows)"
      ],
      "metadata": {
        "id": "PlvF4efe76js"
      },
      "execution_count": 30,
      "outputs": []
    },
    {
      "cell_type": "markdown",
      "source": [
        "Write an SQL query to fetch duplicates that have matching data in some fields of a table.\n"
      ],
      "metadata": {
        "id": "tZs6jGY1uTdX"
      }
    },
    {
      "cell_type": "code",
      "source": [
        "cursor =conn.execute(\"SELECT Email_id, COUNT(Email_id) FROM Employee GROUP BY Email_id HAVING COUNT(Email_id) > 1\");\n",
        "for rows in cursor:\n",
        "  print(rows)"
      ],
      "metadata": {
        "id": "J2-o8TTw_xL7",
        "colab": {
          "base_uri": "https://localhost:8080/"
        },
        "outputId": "ab520f35-664f-4107-a491-b0e63c2f3e7d"
      },
      "execution_count": 31,
      "outputs": [
        {
          "output_type": "stream",
          "name": "stdout",
          "text": [
            "('aadhityavarma@guvi.com', 2)\n",
            "('dhanyasurabi@guvi.com', 2)\n",
            "('rajkumar@guvi.com', 2)\n",
            "('sibinxavier@guvi.com', 2)\n"
          ]
        }
      ]
    },
    {
      "cell_type": "markdown",
      "source": [
        "How to remove duplicate rows from the Employees table."
      ],
      "metadata": {
        "id": "5BI3x_bUW8hI"
      }
    },
    {
      "cell_type": "code",
      "source": [
        "cursor =conn.execute(\"DELETE FROM Employee WHERE S_No NOT IN (SELECT MAX(S_No) FROM Employee GROUP BY First_name,Last_name,Email_id,Department,Salary,Join_date)\");\n",
        "for rows in cursor:\n",
        "  print(rows)"
      ],
      "metadata": {
        "id": "jx5Iu3oE5go0"
      },
      "execution_count": 32,
      "outputs": []
    },
    {
      "cell_type": "code",
      "source": [
        "cursor =conn.execute(\"SELECT * from Employee\");\n",
        "for rows in cursor:\n",
        "  print(rows)"
      ],
      "metadata": {
        "colab": {
          "base_uri": "https://localhost:8080/"
        },
        "id": "RQG4AisT7KUR",
        "outputId": "8a3942fb-180a-4bd4-a6c8-38d837d37146"
      },
      "execution_count": 33,
      "outputs": [
        {
          "output_type": "stream",
          "name": "stdout",
          "text": [
            "(1, 'Sidharth', 'Abhimanyu', 'sidharthabhimanyu@guvi.com', 'Web developer', 20000, '05-05-2020')\n",
            "(3, 'Aadhitya', 'Varma', 'aadhityavarma@guvi.com', 'Senior Software Engineer', 65000, '12-05-2010')\n",
            "(4, 'Mona', 'Varghese', 'monavarghese@guvi.com', 'Senior Software Engineer', 65000, '12-10-2011')\n",
            "(5, 'Anupama', 'Nair', 'anupamanair@guvi.com', 'Software Engineer', 40000, '21-01-2015')\n",
            "(6, 'Sibin', 'Xavier', 'sibinxavier@guvi.com', 'Software Engineer', 45000, '15-10-2013')\n",
            "(7, 'Akshai', 'Kumar', 'akshaikumar@guvi.com', 'System Analyst', 50000, '04-07-2017')\n",
            "(8, 'Krithika', 'Shankari', 'krithikashankari@guvi.com', 'Game Developer', 28000, '23-10-2021')\n",
            "(9, 'Adithi', 'Rao', 'adithirao@guvi.com', 'Hardware Engineer', 20000, '23-05-2020')\n",
            "(10, 'Abhinaya', 'Shree', 'abhinayashree@guvi.com', 'Web Developer', 20000, '12-10-2021')\n",
            "(11, 'Jismi', 'Mary', 'jismimary@guvi.com', 'Senior Software Engineer', 60000, '12-12-2011')\n",
            "(12, 'Dhivya', 'Bharathi', 'dhivyabharathi@guvi.com', 'Software Engineer', 45000, '05-12-2021')\n",
            "(13, 'Cyril', 'Mol', 'cyrilmol@guvi.com', 'Software Engineer', 45000, '12-05-2022')\n",
            "(14, 'Keerthiga', 'Devi', 'keerthigadevi@guvi.com', 'Software Engineer', 50000, '02-07-2009')\n",
            "(15, 'Laxmi', 'Prabha', 'laxmiprabha@guvi.com', 'Senior Software Engineer', 60000, '25-07-2010')\n",
            "(16, 'Shiva', 'Senthil', 'shivasenthil@guvi.com', 'Senior Software Engineer', 60000, '08-11-2010')\n",
            "(17, 'Padma', 'Priya', 'padmapriya@guvi.com', 'Software Engineer', 35000, '01-08-2019')\n",
            "(18, 'Kavi', 'Arasan', 'kaviarasan@guvi.com', 'Software Engineer', 40000, '23-05-2020')\n",
            "(21, 'Raj', 'Kumar', 'rajkumar@guvi.com', 'Software Application Packager', 55000, '01-06-2019')\n",
            "(22, 'Dhanya', 'Surabi', 'dhanyasurabi@guvi.com', 'Mobile Developer', 30000, '05-07-2020')\n",
            "(23, 'Bharath', 'Raj', 'bharathraj@guvi.com', 'Software Engineer', 40000, '28-09-2021')\n",
            "(24, 'Abdhul', 'Hameed', 'abdhulhameed@guvi.com', 'Senior Software Engineer', 60000, '12-06-2019')\n",
            "(25, 'Abhishek', 'Sharma', 'abhisheksharma@guvi.com', 'System Analyst', 50000, '22-05-2018')\n",
            "(26, 'Ramesh', 'Babu', 'rameshbabu@guvi.com', 'Senior Software Engineer', 60000, '17-06-2018')\n",
            "(27, 'Santhosh', 'Kumar', 'santhoshkumar@guvi.com', 'System Analyst', 50000, '22-06-2020')\n",
            "(28, 'Vignesh', 'kumar', 'vigneshkumar@guvi.com', 'Data Scientist', 70000, '22-03-2020')\n",
            "(29, 'Hari', 'Doss', 'haridoss@guvi.com', 'Web Developer', 20000, '16-06-2019')\n",
            "(30, 'Sai', 'Balaji', 'saibalaji@guvi.com', 'Mobile Developer', 25000, '12-09-2019')\n",
            "(31, 'Tamil', 'Arasu', 'tamilarasu@guvi.com', 'Web Developer', 20000, '28-09-2021')\n",
            "(32, 'Senthamizh', 'Selvan', 'senthamizhselvan@guvi.com', 'Network Administrator', 40000, '16-11-2021')\n",
            "(33, 'Linga', 'Mithra', 'lingamithra@guvi.com', 'Senior Software Engineer', 60000, '27-04-2019')\n",
            "(34, 'Raheema', 'Sulthana', 'raheemasulthana@guvi.com', 'Software Engineer', 40000, '17-09-2020')\n",
            "(35, 'Vasantha', 'Mohan', 'vasanthamohan@guvi.com', 'Senior Software Engineer', 60000, '11-11-2017')\n",
            "(36, 'Shiva', 'Raj', 'shivaraj@guvi.com', 'Network Administrator', 40000, '14-08-2017')\n",
            "(37, 'Kamala', 'Devi', 'kamaladevi@guvi.com', 'Mobile Developer', 25000, '05-07-2020')\n",
            "(38, 'Iniyan', 'Venkat', 'iniyanvenkat@guvi.com', 'Software Developer', 30000, '20-02-2020')\n",
            "(39, 'Kriba', 'Karan', 'kribakaran@guvi.com', 'Mobile Developer', 30000, '31-05-2021')\n",
            "(40, 'Sathish', 'Kumar', 'sathishkumar@guvi.com', 'System Analyst', 45000, '17-09-2019')\n",
            "(41, 'Shiva', 'Ranjani', 'shivaranjani@guvi.com', 'Software Engineer', 40000, '23-05-2019')\n",
            "(42, 'Sukirtha', 'Sri', 'sukirthasri@guvi.com', 'Web Developer', 25000, '19-10-2021')\n",
            "(43, 'Mathi', 'Azhagan', 'mathiazhagan@guvi.com', 'Network Administrator', 40000, '15-06-2017')\n",
            "(44, 'Karthigai', 'Selvi', 'karthigaiselvi@guvi.com', 'Web Developer', 25000, '13-03-2019')\n",
            "(45, 'Kishore', 'Kannan', 'kishorekannan@guvi.com', 'Network Administrator', 40000, '11-09-2021')\n",
            "(46, 'Henry', 'Roshan', 'henryroshan@guvi.com', 'Web Developer', 20000, '10-09-2019')\n",
            "(47, 'Prabhu', 'Deva', 'prabhudeva@guvi.com', 'System Analyst', 50000, '11-11-2011')\n",
            "(48, 'Kithur', 'Sumaresh', 'kithursumaresh@guvi.com', 'Mobile Developer', 25000, '17-10-2020')\n",
            "(49, 'Bala', 'Shankar', 'balashankar@guvi.com', 'Software Developer', 30000, '21-10-2017')\n",
            "(50, 'Sathya', 'Priya', 'sathyapriya@guvi.com', 'Mobile Developer', 30000, '19-10-2019')\n",
            "(51, 'Shanmuga', 'Priya', 'shanmugapriya@guvi.com', 'Software Engineer', 40000, '08-06-2020')\n",
            "(52, 'Gowry', 'Shankar', 'gowryshankar@guvi.com', 'Senior Software Engineer', 55000, '10-08-2017')\n",
            "(53, 'Sibin', 'Xavier', 'sibinxavier@guvi.com', 'Software Engineer', 40000, '20-02-2015')\n"
          ]
        }
      ]
    },
    {
      "cell_type": "markdown",
      "source": [
        "Write an SQL query to show only odd rows from a table."
      ],
      "metadata": {
        "id": "LD5YnDJSw1fQ"
      }
    },
    {
      "cell_type": "code",
      "source": [
        "cursor =conn.execute(\"SELECT * FROM Employee WHERE S_NO%2 <>0\");\n",
        "for rows in cursor:\n",
        "  print(rows)"
      ],
      "metadata": {
        "colab": {
          "base_uri": "https://localhost:8080/"
        },
        "id": "-yX1m9KIzJOj",
        "outputId": "2fbc9f82-6adf-4e04-e5d9-3fa58e00b0da"
      },
      "execution_count": 34,
      "outputs": [
        {
          "output_type": "stream",
          "name": "stdout",
          "text": [
            "(1, 'Sidharth', 'Abhimanyu', 'sidharthabhimanyu@guvi.com', 'Web developer', 20000, '05-05-2020')\n",
            "(3, 'Aadhitya', 'Varma', 'aadhityavarma@guvi.com', 'Senior Software Engineer', 65000, '12-05-2010')\n",
            "(5, 'Anupama', 'Nair', 'anupamanair@guvi.com', 'Software Engineer', 40000, '21-01-2015')\n",
            "(7, 'Akshai', 'Kumar', 'akshaikumar@guvi.com', 'System Analyst', 50000, '04-07-2017')\n",
            "(9, 'Adithi', 'Rao', 'adithirao@guvi.com', 'Hardware Engineer', 20000, '23-05-2020')\n",
            "(11, 'Jismi', 'Mary', 'jismimary@guvi.com', 'Senior Software Engineer', 60000, '12-12-2011')\n",
            "(13, 'Cyril', 'Mol', 'cyrilmol@guvi.com', 'Software Engineer', 45000, '12-05-2022')\n",
            "(15, 'Laxmi', 'Prabha', 'laxmiprabha@guvi.com', 'Senior Software Engineer', 60000, '25-07-2010')\n",
            "(17, 'Padma', 'Priya', 'padmapriya@guvi.com', 'Software Engineer', 35000, '01-08-2019')\n",
            "(21, 'Raj', 'Kumar', 'rajkumar@guvi.com', 'Software Application Packager', 55000, '01-06-2019')\n",
            "(23, 'Bharath', 'Raj', 'bharathraj@guvi.com', 'Software Engineer', 40000, '28-09-2021')\n",
            "(25, 'Abhishek', 'Sharma', 'abhisheksharma@guvi.com', 'System Analyst', 50000, '22-05-2018')\n",
            "(27, 'Santhosh', 'Kumar', 'santhoshkumar@guvi.com', 'System Analyst', 50000, '22-06-2020')\n",
            "(29, 'Hari', 'Doss', 'haridoss@guvi.com', 'Web Developer', 20000, '16-06-2019')\n",
            "(31, 'Tamil', 'Arasu', 'tamilarasu@guvi.com', 'Web Developer', 20000, '28-09-2021')\n",
            "(33, 'Linga', 'Mithra', 'lingamithra@guvi.com', 'Senior Software Engineer', 60000, '27-04-2019')\n",
            "(35, 'Vasantha', 'Mohan', 'vasanthamohan@guvi.com', 'Senior Software Engineer', 60000, '11-11-2017')\n",
            "(37, 'Kamala', 'Devi', 'kamaladevi@guvi.com', 'Mobile Developer', 25000, '05-07-2020')\n",
            "(39, 'Kriba', 'Karan', 'kribakaran@guvi.com', 'Mobile Developer', 30000, '31-05-2021')\n",
            "(41, 'Shiva', 'Ranjani', 'shivaranjani@guvi.com', 'Software Engineer', 40000, '23-05-2019')\n",
            "(43, 'Mathi', 'Azhagan', 'mathiazhagan@guvi.com', 'Network Administrator', 40000, '15-06-2017')\n",
            "(45, 'Kishore', 'Kannan', 'kishorekannan@guvi.com', 'Network Administrator', 40000, '11-09-2021')\n",
            "(47, 'Prabhu', 'Deva', 'prabhudeva@guvi.com', 'System Analyst', 50000, '11-11-2011')\n",
            "(49, 'Bala', 'Shankar', 'balashankar@guvi.com', 'Software Developer', 30000, '21-10-2017')\n",
            "(51, 'Shanmuga', 'Priya', 'shanmugapriya@guvi.com', 'Software Engineer', 40000, '08-06-2020')\n",
            "(53, 'Sibin', 'Xavier', 'sibinxavier@guvi.com', 'Software Engineer', 40000, '20-02-2015')\n"
          ]
        }
      ]
    },
    {
      "cell_type": "markdown",
      "source": [
        "Write an SQL query to clone a new table from another table."
      ],
      "metadata": {
        "id": "6_rRE6tPa8mR"
      }
    },
    {
      "cell_type": "code",
      "source": [
        "cursor = conn.execute(\"CREATE TABLE EmployeeClone AS SELECT * FROM Employee\");\n"
      ],
      "metadata": {
        "id": "DNBIhvAx18Jl"
      },
      "execution_count": 35,
      "outputs": []
    },
    {
      "cell_type": "code",
      "source": [
        "cursor =conn.execute(\"SELECT * FROM EmployeeClone\");\n",
        "for rows in cursor:\n",
        "  print(rows)"
      ],
      "metadata": {
        "colab": {
          "base_uri": "https://localhost:8080/"
        },
        "id": "PQQmea4Q_sN2",
        "outputId": "442ae29a-314f-47d7-9e9f-76bbf51fbac6"
      },
      "execution_count": 36,
      "outputs": [
        {
          "output_type": "stream",
          "name": "stdout",
          "text": [
            "(1, 'Sidharth', 'Abhimanyu', 'sidharthabhimanyu@guvi.com', 'Web developer', 20000, '05-05-2020')\n",
            "(3, 'Aadhitya', 'Varma', 'aadhityavarma@guvi.com', 'Senior Software Engineer', 65000, '12-05-2010')\n",
            "(4, 'Mona', 'Varghese', 'monavarghese@guvi.com', 'Senior Software Engineer', 65000, '12-10-2011')\n",
            "(5, 'Anupama', 'Nair', 'anupamanair@guvi.com', 'Software Engineer', 40000, '21-01-2015')\n",
            "(6, 'Sibin', 'Xavier', 'sibinxavier@guvi.com', 'Software Engineer', 45000, '15-10-2013')\n",
            "(7, 'Akshai', 'Kumar', 'akshaikumar@guvi.com', 'System Analyst', 50000, '04-07-2017')\n",
            "(8, 'Krithika', 'Shankari', 'krithikashankari@guvi.com', 'Game Developer', 28000, '23-10-2021')\n",
            "(9, 'Adithi', 'Rao', 'adithirao@guvi.com', 'Hardware Engineer', 20000, '23-05-2020')\n",
            "(10, 'Abhinaya', 'Shree', 'abhinayashree@guvi.com', 'Web Developer', 20000, '12-10-2021')\n",
            "(11, 'Jismi', 'Mary', 'jismimary@guvi.com', 'Senior Software Engineer', 60000, '12-12-2011')\n",
            "(12, 'Dhivya', 'Bharathi', 'dhivyabharathi@guvi.com', 'Software Engineer', 45000, '05-12-2021')\n",
            "(13, 'Cyril', 'Mol', 'cyrilmol@guvi.com', 'Software Engineer', 45000, '12-05-2022')\n",
            "(14, 'Keerthiga', 'Devi', 'keerthigadevi@guvi.com', 'Software Engineer', 50000, '02-07-2009')\n",
            "(15, 'Laxmi', 'Prabha', 'laxmiprabha@guvi.com', 'Senior Software Engineer', 60000, '25-07-2010')\n",
            "(16, 'Shiva', 'Senthil', 'shivasenthil@guvi.com', 'Senior Software Engineer', 60000, '08-11-2010')\n",
            "(17, 'Padma', 'Priya', 'padmapriya@guvi.com', 'Software Engineer', 35000, '01-08-2019')\n",
            "(18, 'Kavi', 'Arasan', 'kaviarasan@guvi.com', 'Software Engineer', 40000, '23-05-2020')\n",
            "(21, 'Raj', 'Kumar', 'rajkumar@guvi.com', 'Software Application Packager', 55000, '01-06-2019')\n",
            "(22, 'Dhanya', 'Surabi', 'dhanyasurabi@guvi.com', 'Mobile Developer', 30000, '05-07-2020')\n",
            "(23, 'Bharath', 'Raj', 'bharathraj@guvi.com', 'Software Engineer', 40000, '28-09-2021')\n",
            "(24, 'Abdhul', 'Hameed', 'abdhulhameed@guvi.com', 'Senior Software Engineer', 60000, '12-06-2019')\n",
            "(25, 'Abhishek', 'Sharma', 'abhisheksharma@guvi.com', 'System Analyst', 50000, '22-05-2018')\n",
            "(26, 'Ramesh', 'Babu', 'rameshbabu@guvi.com', 'Senior Software Engineer', 60000, '17-06-2018')\n",
            "(27, 'Santhosh', 'Kumar', 'santhoshkumar@guvi.com', 'System Analyst', 50000, '22-06-2020')\n",
            "(28, 'Vignesh', 'kumar', 'vigneshkumar@guvi.com', 'Data Scientist', 70000, '22-03-2020')\n",
            "(29, 'Hari', 'Doss', 'haridoss@guvi.com', 'Web Developer', 20000, '16-06-2019')\n",
            "(30, 'Sai', 'Balaji', 'saibalaji@guvi.com', 'Mobile Developer', 25000, '12-09-2019')\n",
            "(31, 'Tamil', 'Arasu', 'tamilarasu@guvi.com', 'Web Developer', 20000, '28-09-2021')\n",
            "(32, 'Senthamizh', 'Selvan', 'senthamizhselvan@guvi.com', 'Network Administrator', 40000, '16-11-2021')\n",
            "(33, 'Linga', 'Mithra', 'lingamithra@guvi.com', 'Senior Software Engineer', 60000, '27-04-2019')\n",
            "(34, 'Raheema', 'Sulthana', 'raheemasulthana@guvi.com', 'Software Engineer', 40000, '17-09-2020')\n",
            "(35, 'Vasantha', 'Mohan', 'vasanthamohan@guvi.com', 'Senior Software Engineer', 60000, '11-11-2017')\n",
            "(36, 'Shiva', 'Raj', 'shivaraj@guvi.com', 'Network Administrator', 40000, '14-08-2017')\n",
            "(37, 'Kamala', 'Devi', 'kamaladevi@guvi.com', 'Mobile Developer', 25000, '05-07-2020')\n",
            "(38, 'Iniyan', 'Venkat', 'iniyanvenkat@guvi.com', 'Software Developer', 30000, '20-02-2020')\n",
            "(39, 'Kriba', 'Karan', 'kribakaran@guvi.com', 'Mobile Developer', 30000, '31-05-2021')\n",
            "(40, 'Sathish', 'Kumar', 'sathishkumar@guvi.com', 'System Analyst', 45000, '17-09-2019')\n",
            "(41, 'Shiva', 'Ranjani', 'shivaranjani@guvi.com', 'Software Engineer', 40000, '23-05-2019')\n",
            "(42, 'Sukirtha', 'Sri', 'sukirthasri@guvi.com', 'Web Developer', 25000, '19-10-2021')\n",
            "(43, 'Mathi', 'Azhagan', 'mathiazhagan@guvi.com', 'Network Administrator', 40000, '15-06-2017')\n",
            "(44, 'Karthigai', 'Selvi', 'karthigaiselvi@guvi.com', 'Web Developer', 25000, '13-03-2019')\n",
            "(45, 'Kishore', 'Kannan', 'kishorekannan@guvi.com', 'Network Administrator', 40000, '11-09-2021')\n",
            "(46, 'Henry', 'Roshan', 'henryroshan@guvi.com', 'Web Developer', 20000, '10-09-2019')\n",
            "(47, 'Prabhu', 'Deva', 'prabhudeva@guvi.com', 'System Analyst', 50000, '11-11-2011')\n",
            "(48, 'Kithur', 'Sumaresh', 'kithursumaresh@guvi.com', 'Mobile Developer', 25000, '17-10-2020')\n",
            "(49, 'Bala', 'Shankar', 'balashankar@guvi.com', 'Software Developer', 30000, '21-10-2017')\n",
            "(50, 'Sathya', 'Priya', 'sathyapriya@guvi.com', 'Mobile Developer', 30000, '19-10-2019')\n",
            "(51, 'Shanmuga', 'Priya', 'shanmugapriya@guvi.com', 'Software Engineer', 40000, '08-06-2020')\n",
            "(52, 'Gowry', 'Shankar', 'gowryshankar@guvi.com', 'Senior Software Engineer', 55000, '10-08-2017')\n",
            "(53, 'Sibin', 'Xavier', 'sibinxavier@guvi.com', 'Software Engineer', 40000, '20-02-2015')\n"
          ]
        }
      ]
    },
    {
      "cell_type": "markdown",
      "source": [
        "Write an SQL query to fetch intersecting records of two tables."
      ],
      "metadata": {
        "id": "fjdH_ru3AEOM"
      }
    },
    {
      "cell_type": "code",
      "source": [
        "cursor =conn.execute(\"SELECT * FROM Employee INTERSECT SELECT * FROM EmployeeClone\");\n",
        "for rows in cursor:\n",
        "  print(rows)"
      ],
      "metadata": {
        "colab": {
          "base_uri": "https://localhost:8080/"
        },
        "id": "k9yM0Nt6AIa1",
        "outputId": "78ff61b4-ba16-4b1e-8fd3-0b74ef08e6ea"
      },
      "execution_count": 37,
      "outputs": [
        {
          "output_type": "stream",
          "name": "stdout",
          "text": [
            "(1, 'Sidharth', 'Abhimanyu', 'sidharthabhimanyu@guvi.com', 'Web developer', 20000, '05-05-2020')\n",
            "(3, 'Aadhitya', 'Varma', 'aadhityavarma@guvi.com', 'Senior Software Engineer', 65000, '12-05-2010')\n",
            "(4, 'Mona', 'Varghese', 'monavarghese@guvi.com', 'Senior Software Engineer', 65000, '12-10-2011')\n",
            "(5, 'Anupama', 'Nair', 'anupamanair@guvi.com', 'Software Engineer', 40000, '21-01-2015')\n",
            "(6, 'Sibin', 'Xavier', 'sibinxavier@guvi.com', 'Software Engineer', 45000, '15-10-2013')\n",
            "(7, 'Akshai', 'Kumar', 'akshaikumar@guvi.com', 'System Analyst', 50000, '04-07-2017')\n",
            "(8, 'Krithika', 'Shankari', 'krithikashankari@guvi.com', 'Game Developer', 28000, '23-10-2021')\n",
            "(9, 'Adithi', 'Rao', 'adithirao@guvi.com', 'Hardware Engineer', 20000, '23-05-2020')\n",
            "(10, 'Abhinaya', 'Shree', 'abhinayashree@guvi.com', 'Web Developer', 20000, '12-10-2021')\n",
            "(11, 'Jismi', 'Mary', 'jismimary@guvi.com', 'Senior Software Engineer', 60000, '12-12-2011')\n",
            "(12, 'Dhivya', 'Bharathi', 'dhivyabharathi@guvi.com', 'Software Engineer', 45000, '05-12-2021')\n",
            "(13, 'Cyril', 'Mol', 'cyrilmol@guvi.com', 'Software Engineer', 45000, '12-05-2022')\n",
            "(14, 'Keerthiga', 'Devi', 'keerthigadevi@guvi.com', 'Software Engineer', 50000, '02-07-2009')\n",
            "(15, 'Laxmi', 'Prabha', 'laxmiprabha@guvi.com', 'Senior Software Engineer', 60000, '25-07-2010')\n",
            "(16, 'Shiva', 'Senthil', 'shivasenthil@guvi.com', 'Senior Software Engineer', 60000, '08-11-2010')\n",
            "(17, 'Padma', 'Priya', 'padmapriya@guvi.com', 'Software Engineer', 35000, '01-08-2019')\n",
            "(18, 'Kavi', 'Arasan', 'kaviarasan@guvi.com', 'Software Engineer', 40000, '23-05-2020')\n",
            "(21, 'Raj', 'Kumar', 'rajkumar@guvi.com', 'Software Application Packager', 55000, '01-06-2019')\n",
            "(22, 'Dhanya', 'Surabi', 'dhanyasurabi@guvi.com', 'Mobile Developer', 30000, '05-07-2020')\n",
            "(23, 'Bharath', 'Raj', 'bharathraj@guvi.com', 'Software Engineer', 40000, '28-09-2021')\n",
            "(24, 'Abdhul', 'Hameed', 'abdhulhameed@guvi.com', 'Senior Software Engineer', 60000, '12-06-2019')\n",
            "(25, 'Abhishek', 'Sharma', 'abhisheksharma@guvi.com', 'System Analyst', 50000, '22-05-2018')\n",
            "(26, 'Ramesh', 'Babu', 'rameshbabu@guvi.com', 'Senior Software Engineer', 60000, '17-06-2018')\n",
            "(27, 'Santhosh', 'Kumar', 'santhoshkumar@guvi.com', 'System Analyst', 50000, '22-06-2020')\n",
            "(28, 'Vignesh', 'kumar', 'vigneshkumar@guvi.com', 'Data Scientist', 70000, '22-03-2020')\n",
            "(29, 'Hari', 'Doss', 'haridoss@guvi.com', 'Web Developer', 20000, '16-06-2019')\n",
            "(30, 'Sai', 'Balaji', 'saibalaji@guvi.com', 'Mobile Developer', 25000, '12-09-2019')\n",
            "(31, 'Tamil', 'Arasu', 'tamilarasu@guvi.com', 'Web Developer', 20000, '28-09-2021')\n",
            "(32, 'Senthamizh', 'Selvan', 'senthamizhselvan@guvi.com', 'Network Administrator', 40000, '16-11-2021')\n",
            "(33, 'Linga', 'Mithra', 'lingamithra@guvi.com', 'Senior Software Engineer', 60000, '27-04-2019')\n",
            "(34, 'Raheema', 'Sulthana', 'raheemasulthana@guvi.com', 'Software Engineer', 40000, '17-09-2020')\n",
            "(35, 'Vasantha', 'Mohan', 'vasanthamohan@guvi.com', 'Senior Software Engineer', 60000, '11-11-2017')\n",
            "(36, 'Shiva', 'Raj', 'shivaraj@guvi.com', 'Network Administrator', 40000, '14-08-2017')\n",
            "(37, 'Kamala', 'Devi', 'kamaladevi@guvi.com', 'Mobile Developer', 25000, '05-07-2020')\n",
            "(38, 'Iniyan', 'Venkat', 'iniyanvenkat@guvi.com', 'Software Developer', 30000, '20-02-2020')\n",
            "(39, 'Kriba', 'Karan', 'kribakaran@guvi.com', 'Mobile Developer', 30000, '31-05-2021')\n",
            "(40, 'Sathish', 'Kumar', 'sathishkumar@guvi.com', 'System Analyst', 45000, '17-09-2019')\n",
            "(41, 'Shiva', 'Ranjani', 'shivaranjani@guvi.com', 'Software Engineer', 40000, '23-05-2019')\n",
            "(42, 'Sukirtha', 'Sri', 'sukirthasri@guvi.com', 'Web Developer', 25000, '19-10-2021')\n",
            "(43, 'Mathi', 'Azhagan', 'mathiazhagan@guvi.com', 'Network Administrator', 40000, '15-06-2017')\n",
            "(44, 'Karthigai', 'Selvi', 'karthigaiselvi@guvi.com', 'Web Developer', 25000, '13-03-2019')\n",
            "(45, 'Kishore', 'Kannan', 'kishorekannan@guvi.com', 'Network Administrator', 40000, '11-09-2021')\n",
            "(46, 'Henry', 'Roshan', 'henryroshan@guvi.com', 'Web Developer', 20000, '10-09-2019')\n",
            "(47, 'Prabhu', 'Deva', 'prabhudeva@guvi.com', 'System Analyst', 50000, '11-11-2011')\n",
            "(48, 'Kithur', 'Sumaresh', 'kithursumaresh@guvi.com', 'Mobile Developer', 25000, '17-10-2020')\n",
            "(49, 'Bala', 'Shankar', 'balashankar@guvi.com', 'Software Developer', 30000, '21-10-2017')\n",
            "(50, 'Sathya', 'Priya', 'sathyapriya@guvi.com', 'Mobile Developer', 30000, '19-10-2019')\n",
            "(51, 'Shanmuga', 'Priya', 'shanmugapriya@guvi.com', 'Software Engineer', 40000, '08-06-2020')\n",
            "(52, 'Gowry', 'Shankar', 'gowryshankar@guvi.com', 'Senior Software Engineer', 55000, '10-08-2017')\n",
            "(53, 'Sibin', 'Xavier', 'sibinxavier@guvi.com', 'Software Engineer', 40000, '20-02-2015')\n"
          ]
        }
      ]
    },
    {
      "cell_type": "markdown",
      "source": [
        "Write an SQL query to show records from one table that another table does not have.\n"
      ],
      "metadata": {
        "id": "UCi7tetvAvg_"
      }
    },
    {
      "cell_type": "code",
      "source": [
        "cursor =conn.execute(\"SELECT * FROM Employee EXCEPT SELECT * FROM EmployeeClone\");\n",
        "for rows in cursor:\n",
        "  print(rows)"
      ],
      "metadata": {
        "id": "Wev5vTg5AyNc"
      },
      "execution_count": 38,
      "outputs": []
    },
    {
      "cell_type": "markdown",
      "source": [
        "Write an SQL query to show the top n (say 15) records of a table"
      ],
      "metadata": {
        "id": "qrdrU4dqFSjD"
      }
    },
    {
      "cell_type": "code",
      "source": [
        "cursor =conn.execute(\"SELECT * FROM Employee ORDER BY S_No ASC LIMIT 15\");\n",
        "for rows in cursor:\n",
        "  print(rows)"
      ],
      "metadata": {
        "colab": {
          "base_uri": "https://localhost:8080/"
        },
        "id": "PRkpj-fEhTzJ",
        "outputId": "fd2d6dc5-3d19-47db-9849-46a905edbe1e"
      },
      "execution_count": 39,
      "outputs": [
        {
          "output_type": "stream",
          "name": "stdout",
          "text": [
            "(1, 'Sidharth', 'Abhimanyu', 'sidharthabhimanyu@guvi.com', 'Web developer', 20000, '05-05-2020')\n",
            "(3, 'Aadhitya', 'Varma', 'aadhityavarma@guvi.com', 'Senior Software Engineer', 65000, '12-05-2010')\n",
            "(4, 'Mona', 'Varghese', 'monavarghese@guvi.com', 'Senior Software Engineer', 65000, '12-10-2011')\n",
            "(5, 'Anupama', 'Nair', 'anupamanair@guvi.com', 'Software Engineer', 40000, '21-01-2015')\n",
            "(6, 'Sibin', 'Xavier', 'sibinxavier@guvi.com', 'Software Engineer', 45000, '15-10-2013')\n",
            "(7, 'Akshai', 'Kumar', 'akshaikumar@guvi.com', 'System Analyst', 50000, '04-07-2017')\n",
            "(8, 'Krithika', 'Shankari', 'krithikashankari@guvi.com', 'Game Developer', 28000, '23-10-2021')\n",
            "(9, 'Adithi', 'Rao', 'adithirao@guvi.com', 'Hardware Engineer', 20000, '23-05-2020')\n",
            "(10, 'Abhinaya', 'Shree', 'abhinayashree@guvi.com', 'Web Developer', 20000, '12-10-2021')\n",
            "(11, 'Jismi', 'Mary', 'jismimary@guvi.com', 'Senior Software Engineer', 60000, '12-12-2011')\n",
            "(12, 'Dhivya', 'Bharathi', 'dhivyabharathi@guvi.com', 'Software Engineer', 45000, '05-12-2021')\n",
            "(13, 'Cyril', 'Mol', 'cyrilmol@guvi.com', 'Software Engineer', 45000, '12-05-2022')\n",
            "(14, 'Keerthiga', 'Devi', 'keerthigadevi@guvi.com', 'Software Engineer', 50000, '02-07-2009')\n",
            "(15, 'Laxmi', 'Prabha', 'laxmiprabha@guvi.com', 'Senior Software Engineer', 60000, '25-07-2010')\n",
            "(16, 'Shiva', 'Senthil', 'shivasenthil@guvi.com', 'Senior Software Engineer', 60000, '08-11-2010')\n"
          ]
        }
      ]
    },
    {
      "cell_type": "markdown",
      "source": [
        "Write an SQL query to determine the nth (say n=10) highest salary from a table.\n"
      ],
      "metadata": {
        "id": "cTyRciqudsgm"
      }
    },
    {
      "cell_type": "code",
      "source": [
        "cursor =conn.execute(\"SELECT * FROM Employee ORDER BY Salary DESC LIMIT 10\");\n",
        "for rows in cursor:\n",
        "  print(rows)"
      ],
      "metadata": {
        "colab": {
          "base_uri": "https://localhost:8080/"
        },
        "id": "agwWPIvTFXZR",
        "outputId": "bbbfa0a1-8911-46ec-f611-60313695147a"
      },
      "execution_count": 40,
      "outputs": [
        {
          "output_type": "stream",
          "name": "stdout",
          "text": [
            "(28, 'Vignesh', 'kumar', 'vigneshkumar@guvi.com', 'Data Scientist', 70000, '22-03-2020')\n",
            "(3, 'Aadhitya', 'Varma', 'aadhityavarma@guvi.com', 'Senior Software Engineer', 65000, '12-05-2010')\n",
            "(4, 'Mona', 'Varghese', 'monavarghese@guvi.com', 'Senior Software Engineer', 65000, '12-10-2011')\n",
            "(11, 'Jismi', 'Mary', 'jismimary@guvi.com', 'Senior Software Engineer', 60000, '12-12-2011')\n",
            "(15, 'Laxmi', 'Prabha', 'laxmiprabha@guvi.com', 'Senior Software Engineer', 60000, '25-07-2010')\n",
            "(16, 'Shiva', 'Senthil', 'shivasenthil@guvi.com', 'Senior Software Engineer', 60000, '08-11-2010')\n",
            "(24, 'Abdhul', 'Hameed', 'abdhulhameed@guvi.com', 'Senior Software Engineer', 60000, '12-06-2019')\n",
            "(26, 'Ramesh', 'Babu', 'rameshbabu@guvi.com', 'Senior Software Engineer', 60000, '17-06-2018')\n",
            "(33, 'Linga', 'Mithra', 'lingamithra@guvi.com', 'Senior Software Engineer', 60000, '27-04-2019')\n",
            "(35, 'Vasantha', 'Mohan', 'vasanthamohan@guvi.com', 'Senior Software Engineer', 60000, '11-11-2017')\n"
          ]
        }
      ]
    },
    {
      "cell_type": "markdown",
      "source": [
        "Write an SQL query to determine the 8th highest salary without using TOP or LIMIT methods.\n"
      ],
      "metadata": {
        "id": "3H6GJMa8hjt3"
      }
    },
    {
      "cell_type": "code",
      "source": [
        "cursor =conn.execute(\"SELECT Salary FROM Employee E1 WHERE 8-1 = (SELECT COUNT( DISTINCT ( E2.Salary ))FROM Employee E2 WHERE E2.Salary >= E1.Salary)\");\n",
        "for rows in cursor:\n",
        "  print(\"8th highest salary:\",rows)\n",
        "  break"
      ],
      "metadata": {
        "colab": {
          "base_uri": "https://localhost:8080/"
        },
        "id": "PbCTxZB2dwiU",
        "outputId": "54ecff40-fcc2-4dc3-e0aa-60a794cc9cd9"
      },
      "execution_count": 41,
      "outputs": [
        {
          "output_type": "stream",
          "name": "stdout",
          "text": [
            "8th highest salary: (40000,)\n"
          ]
        }
      ]
    },
    {
      "cell_type": "markdown",
      "source": [
        "Write an SQL query to fetch the list of employees with the same salary."
      ],
      "metadata": {
        "id": "_sPsfXc5jXkv"
      }
    },
    {
      "cell_type": "code",
      "source": [
        "cursor =conn.execute(\"Select distinct E.S_No, E.First_Name, E.Salary from Employee E, Employee E1 where E.Salary = E1.Salary and E.S_No != E1.S_No\");\n",
        "for rows in cursor:\n",
        "  print(rows)"
      ],
      "metadata": {
        "colab": {
          "base_uri": "https://localhost:8080/"
        },
        "id": "8ez7_Rf4jbIF",
        "outputId": "bba86364-c79f-4857-9237-debbf4ab1329"
      },
      "execution_count": 42,
      "outputs": [
        {
          "output_type": "stream",
          "name": "stdout",
          "text": [
            "(1, 'Sidharth', 20000)\n",
            "(3, 'Aadhitya', 65000)\n",
            "(4, 'Mona', 65000)\n",
            "(5, 'Anupama', 40000)\n",
            "(6, 'Sibin', 45000)\n",
            "(7, 'Akshai', 50000)\n",
            "(9, 'Adithi', 20000)\n",
            "(10, 'Abhinaya', 20000)\n",
            "(11, 'Jismi', 60000)\n",
            "(12, 'Dhivya', 45000)\n",
            "(13, 'Cyril', 45000)\n",
            "(14, 'Keerthiga', 50000)\n",
            "(15, 'Laxmi', 60000)\n",
            "(16, 'Shiva', 60000)\n",
            "(18, 'Kavi', 40000)\n",
            "(21, 'Raj', 55000)\n",
            "(22, 'Dhanya', 30000)\n",
            "(23, 'Bharath', 40000)\n",
            "(24, 'Abdhul', 60000)\n",
            "(25, 'Abhishek', 50000)\n",
            "(26, 'Ramesh', 60000)\n",
            "(27, 'Santhosh', 50000)\n",
            "(29, 'Hari', 20000)\n",
            "(30, 'Sai', 25000)\n",
            "(31, 'Tamil', 20000)\n",
            "(32, 'Senthamizh', 40000)\n",
            "(33, 'Linga', 60000)\n",
            "(34, 'Raheema', 40000)\n",
            "(35, 'Vasantha', 60000)\n",
            "(36, 'Shiva', 40000)\n",
            "(37, 'Kamala', 25000)\n",
            "(38, 'Iniyan', 30000)\n",
            "(39, 'Kriba', 30000)\n",
            "(40, 'Sathish', 45000)\n",
            "(41, 'Shiva', 40000)\n",
            "(42, 'Sukirtha', 25000)\n",
            "(43, 'Mathi', 40000)\n",
            "(44, 'Karthigai', 25000)\n",
            "(45, 'Kishore', 40000)\n",
            "(46, 'Henry', 20000)\n",
            "(47, 'Prabhu', 50000)\n",
            "(48, 'Kithur', 25000)\n",
            "(49, 'Bala', 30000)\n",
            "(50, 'Sathya', 30000)\n",
            "(51, 'Shanmuga', 40000)\n",
            "(52, 'Gowry', 55000)\n",
            "(53, 'Sibin', 40000)\n"
          ]
        }
      ]
    }
  ]
}